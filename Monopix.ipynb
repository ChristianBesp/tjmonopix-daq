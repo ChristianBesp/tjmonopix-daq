{
 "cells": [
  {
   "cell_type": "markdown",
   "metadata": {},
   "source": [
    "**************************************************INITIALIZATION*********************************************************"
   ]
  },
  {
   "cell_type": "code",
   "execution_count": 1,
   "metadata": {},
   "outputs": [
    {
     "name": "stderr",
     "output_type": "stream",
     "text": [
      "2018-03-14 10:57:19,618 [INFO ] (MainThread) Found USB board(s): USBpix with ID 129 (FW 08)\n",
      "2018-03-14 10:57:19,620 [INFO ] (MainThread) Programming FPGA: tjmonopix_mioAB.bit...\n",
      "2018-03-14 10:57:27,784 [INFO ] (MainThread) Success!\n",
      "2018-03-14 10:57:28,231 [INFO ] (MainThread) Found adapter card: General Purpose Analog Card with ID 12\n",
      "2018-03-14 10:57:28,255 [INFO ] (MainThread) Initializing fifo (firmware version: 2), module basil.HL.sram_fifo, base_addr 0x18000\n",
      "2018-03-14 10:57:28,257 [INFO ] (MainThread) Initializing gpio (firmware version: 0), module basil.HL.gpio, base_addr 0x10000\n",
      "2018-03-14 10:57:28,260 [INFO ] (MainThread) Initializing spi (firmware version: 2), module basil.HL.spi, base_addr 0x11000\n",
      "2018-03-14 10:57:28,262 [INFO ] (MainThread) Initializing inj (firmware version: 3), module basil.HL.pulse_gen, base_addr 0x10100\n",
      "2018-03-14 10:57:28,264 [INFO ] (MainThread) Initializing data_rx (firmware version: 2), module tjmonopix.tjmono_data_rx, base_addr 0x10500\n",
      "2018-03-14 10:57:28,266 [INFO ] (MainThread) Initializing tlu (firmware version: 10), module basil.HL.tlu, base_addr 0x10600\n",
      "2018-03-14 10:57:28,268 [INFO ] (MainThread) Initializing timestamp (firmware version: 2), module basil.HL.timestamp, base_addr 0x10700\n",
      "2018-03-14 10:57:28,271 [INFO ] (MainThread) Initializing tdc (firmware version: 2), module basil.HL.tdc_s3, base_addr 0x10300\n",
      "2018-03-14 10:57:28,273 [INFO ] (MainThread) Initializing gate_tdc (firmware version: 3), module basil.HL.pulse_gen, base_addr 0x10400\n"
     ]
    },
    {
     "name": "stdout",
     "output_type": "stream",
     "text": [
      "4099\n",
      "{'VPC [V]': 1.3006487843921961, 'VDDA_DAC [mA]': 3.513856326790666, 'VDDP [V]': 1.788289688, 'VDDD [V]': 1.799880103792415, 'VDDA [mA]': 56.67697058276823, 'VPC [mA]': -0.12236137246711001, 'VDDD [mA]': 1.0029514513109121, 'VPCSWSF [V]': 0.4999735, 'VDDP [mA]': 155.33580048907064, 'BiasSF [V]': 1.0473028886931373, 'VPCSWSF [mA]': -0.039676713681225266, 'VDDA [V]': 1.7825418966900703, 'VDDA_DAC [V]': 1.7961326918489067, 'BiasSF [mA]': 0.09976428665667163}\n"
     ]
    }
   ],
   "source": [
    "from tjmonopix.tjmonopix import TJMonoPix\n",
    "import time\n",
    "import tjmonopix.scans.simple_scan\n",
    "\n",
    "chip = TJMonoPix()\n",
    "\n",
    "chip.init()"
   ]
  },
  {
   "cell_type": "code",
   "execution_count": 2,
   "metadata": {},
   "outputs": [
    {
     "data": {
      "text/plain": [
       "{'BiasSF [V]': 1.051299486957665,\n",
       " 'BiasSF [mA]': 0.10026885347326334,\n",
       " 'VDDA [V]': 1.7825418966900703,\n",
       " 'VDDA [mA]': 57.18301496566461,\n",
       " 'VDDA_DAC [V]': 1.7971312196819085,\n",
       " 'VDDA_DAC [mA]': 3.513856326790666,\n",
       " 'VDDD [V]': 1.799880103792415,\n",
       " 'VDDD [mA]': 0.501475573372531,\n",
       " 'VDDP [V]': 1.7892880359999999,\n",
       " 'VDDP [mA]': 156.33474454562406,\n",
       " 'VPC [V]': 1.3006487843921961,\n",
       " 'VPC [mA]': -0.28835156785880495,\n",
       " 'VPCSWSF [V]': 0.4999735,\n",
       " 'VPCSWSF [mA]': -0.08186459017843441}"
      ]
     },
     "execution_count": 2,
     "metadata": {},
     "output_type": "execute_result"
    }
   ],
   "source": [
    "chip.get_power_status()"
   ]
  },
  {
   "cell_type": "code",
   "execution_count": 3,
   "metadata": {},
   "outputs": [
    {
     "data": {
      "text/plain": [
       "{'BiasSF [V]': 1.052798211306863,\n",
       " 'BiasSF [mA]': 0.10026885347326334,\n",
       " 'VDDA [V]': 1.7825418966900703,\n",
       " 'VDDA [mA]': 57.689059348560995,\n",
       " 'VDDA_DAC [V]': 1.7971312196819085,\n",
       " 'VDDA_DAC [mA]': 3.513856326790666,\n",
       " 'VDDD [V]': 1.799880103792415,\n",
       " 'VDDD [mA]': 0.501475573372531,\n",
       " 'VDDP [V]': 1.7892880359999999,\n",
       " 'VDDP [mA]': 156.33474454562406,\n",
       " 'VPC [V]': 1.3006487843921961,\n",
       " 'VPC [mA]': -0.458855091826105,\n",
       " 'VPCSWSF [V]': 0.4999735,\n",
       " 'VPCSWSF [mA]': -0.07734446055373342}"
      ]
     },
     "execution_count": 3,
     "metadata": {},
     "output_type": "execute_result"
    }
   ],
   "source": [
    "chip['CONF_SR']['MASKD'].setall(False)\n",
    "chip['CONF_SR']['MASKH'].setall(False)\n",
    "chip['CONF_SR']['MASKV'].setall(False)\n",
    "chip['CONF_SR']['EN_PMOS'].setall(False)\n",
    "\n",
    "chip.write_conf()\n",
    "chip.get_power_status()"
   ]
  },
  {
   "cell_type": "code",
   "execution_count": 44,
   "metadata": {},
   "outputs": [],
   "source": [
    "# SELECT WHICH DOUBLE COLUMNS TO ENABLE\n",
    "chip['CONF_SR']['EN_PMOS_NOSF'].setall(False)\n",
    "chip['CONF_SR']['EN_PMOS'].setall(False)\n",
    "chip['CONF_SR']['EN_COMP'].setall(False)\n",
    "chip['CONF_SR']['EN_HV'].setall(False)\n",
    "chip['CONF_SR']['EN_OUT'].setall(False) #ENABLES OR DISABLES THE NORMAL OUTPUT PADS, ACTIVE LOW\n",
    "chip['CONF_SR']['nEN_OUT'].setall(True) #ENABLES OR DISABLES THE COMPLEMENTARY OUTPUT PADS, ACTIVE LOW\n",
    "chip['CONF_SR']['EN_HITOR_OUT'].setall(True) #ENABLES OR DISABLES THE NORMAL HITOR PADS, HITOR0-3 =  1-4 flavor, ACTIVE LOW\n",
    "chip['CONF_SR']['nEN_HITOR_OUT'].setall(True) #ENABLES OR DISABLES THE COMPLEMENTARY HITOR PADS, ACTIVE LOW\n",
    "\n",
    "#chip['CONF_SR']['EN_PMOS'].setall(True)\n",
    "chip['CONF_SR']['EN_PMOS'][9] = 1\n",
    "chip['CONF_SR']['EN_PMOS'][10] = 1\n",
    "chip['CONF_SR']['EN_PMOS'][11] = 1\n",
    "chip['CONF_SR']['EN_HITOR_OUT'][1] = 0\n",
    "\n",
    "# SELECT WHICH PHYSICAL COLUMNS, ROWS, DIAGONALS TO MASK\n",
    "# TO MASK ONE PIXEL, MASKV, MASKH and MASKD OF THIS PIXEL SHOULD BE 0 (FALSE)\n",
    "# THE MASKD NUMBER OF THE PIXEL WE WANT TO MASK (or UNMASK), IS GIVEN BY: MASKD = PHYSCOL- PHYSROW\n",
    "# IF PHYSCOL-PHYSROW<0, then MASKD = 448+PHYSCOL-PHYSROW\n",
    "#chip['CONF_SR']['MASKD'].setall(False)\n",
    "#chip['CONF_SR']['MASKH'].setall(False)\n",
    "#chip['CONF_SR']['MASKV'].setall(False)\n",
    "\n",
    "# TO USE THE MASK FUNCTION YOU MUST INPUT THE FLAVOR, COLUMN AND ROW\n",
    "# THE FLAVOR NUMERS IS: 0 FOR PMOS_NOSF, 1 FOR PMOS, 2 FOR COMP, 3 FOR HV\n",
    "\n",
    "# for d in range(28,34):\n",
    "#    chip['CONF_SR']['MASKD'][d] = True\n",
    "# for i in range(99,105):    \n",
    "#    chip['CONF_SR']['MASKH'][i] = True\n",
    "# chip['CONF_SR']['MASKH'][102] = False\n",
    "\n",
    "chip['CONF_SR']['MASKD'].setall(True)\n",
    "chip['CONF_SR']['MASKH'].setall(True)\n",
    "chip['CONF_SR']['MASKV'][224:112] = True\n",
    "chip['CONF_SR']['EN_PMOS'].setall(True)\n",
    "\n",
    "\n",
    "chip.mask(1, 33, 72)\n",
    "chip.mask(1, 17, 30)\n",
    "chip.mask(1, 19, 31)\n",
    "chip.mask(1, 41, 66)\n",
    "chip.mask(1, 97, 94)\n",
    "chip.mask(1, 34, 151)\n",
    "chip.mask(1, 40, 123)\n",
    "chip.mask(1, 82, 193)\n",
    "chip.mask(1, 71, 31)\n",
    "chip.mask(1, 71, 111)\n",
    "chip.mask(1, 38, 188)\n",
    "chip.mask(1, 97, 214)\n",
    "chip.mask(1, 86, 104)\n",
    "\n",
    "# chip['CONF_SR']['MASKH'][31] = False\n",
    "# chip['CONF_SR']['EN_PMOS'][35] = False\n",
    "\n",
    "\n",
    "# SELECT WHICH PHYSICAL COLUMS TO INJECT\n",
    "# INJ_IN_MON_L AND INJ_IN_MON_L SELECT THE LEFT AND RIGHT SPECIAL ANALOG MONITORING PIXELS\n",
    "chip['CONF_SR']['COL_PULSE_SEL'].setall(False)\n",
    "\n",
    "# chip['CONF_SR']['INJ_IN_MON_L'] = 1 # ENABLE INJECTION FOR THE ANALOG MONITORING PIXELS LEFT SIDE\n",
    "# chip['CONF_SR']['INJ_IN_MON_R'] = 1 # ENABLE INJECTION FOR THE ANALOG MONITORING PIXELS RIGHT SIDE\n",
    "\n",
    "# SELECT WHICH PHYSICAL ROWS TO INJECT\n",
    "# THE SPECIAL PIXELS OUTA_MON3 to OUTA_MON0 CORRESPONT TO ROWS 223 to 220 FOR INJECTION\n",
    "# chip['CONF_SR']['INJ_ROW'].setall(False)\n",
    "# chip['CONF_SR']['INJ_ROW'][223] = True # FOR THE ANALOG MONITORING TOP PIXEL\n",
    "# chip['CONF_SR']['INJ_ROW'][99] = True\n",
    "\n",
    "# SELECT PHYSICAL COLUMNS AND ROWS FOR INJECTION WITH FUNCTION\n",
    "# chip.enable_injection(1,18,99)\n",
    "\n",
    "# SELECT PHYSICAL COLUMN(S) FOR HITOR OUTPUT\n",
    "# nMASKH (SO SETTING MASKH TO FALSE) ENABLES HITOR FOR THE SPECIFIC ROW\n",
    "chip['CONF_SR']['DIG_MON_SEL'].setall(False)\n",
    "chip.enable_column_hitor(1,20)\n",
    "\n",
    "chip.write_conf()"
   ]
  },
  {
   "cell_type": "markdown",
   "metadata": {},
   "source": [
    "******************INITIALIZE COMMUNICATION, RECEIVE DATA (CHECK IF DATA ARE SENT WITH EACH EXCECUTION)*******************"
   ]
  },
  {
   "cell_type": "markdown",
   "metadata": {},
   "source": [
    "************CONFIGURE THE FRONT END CURRENT AND VOLTAGE BIASES, CONFIGURE THE HEIGHT OF THE INJECTION PULSE**************"
   ]
  },
  {
   "cell_type": "code",
   "execution_count": 45,
   "metadata": {},
   "outputs": [
    {
     "name": "stderr",
     "output_type": "stream",
     "text": [
      "2018-03-14 11:07:30,972 [INFO ] (MainThread) set_vl_dacunits: vl=1.0795V dac=49\n",
      "2018-03-14 11:07:30,973 [INFO ] (MainThread) set_vh_dacunits: vh=1.5047V, dac=79\n",
      "2018-03-14 11:07:30,975 [INFO ] (MainThread) set_vcasn_dac_dacunits: vreset=1.0511V dac=35\n",
      "2018-03-14 11:07:30,976 [INFO ] (MainThread) set_icasn_dacunits: icasn=4.3750nA dac=0,63-63\n",
      "2018-03-14 11:07:30,978 [INFO ] (MainThread) set_icasset_ireset_dacunits: icasn=573.1250pA dac=130,1,64-62\n",
      "2018-03-14 11:07:30,979 [INFO ] (MainThread) set_ithr_dacunits: ithr=1.5039nA dac=10,68-58\n",
      "2018-03-14 11:07:30,981 [INFO ] (MainThread) set_idb_dacunits: idb=367.5000nA dac=20,73-53\n",
      "2018-03-14 11:07:30,983 [INFO ] (MainThread) set_ibias_dacunits: ibias=557.8125nA dac=50,88-38\n"
     ]
    }
   ],
   "source": [
    "## SET THE INJECTION PULSE AMPLITUDE\n",
    "## 128-bit DAC (7-bit binary equivalent)\n",
    "## SET THE VOLTAGES IN ONE HOT ENCODING, ONLY ONE BIT ACTIVE AT A TIME.\n",
    "## V = (127/1.8)*#BIT\n",
    "# The default values are VL=44, VH=79, VH-VL=35\n",
    "# VDAC LSB=14.17mV, Cinj=230aF, 1.43e-/mV, ~710e-\n",
    "chip.set_vl_dacunits(49,1)\n",
    "chip.set_vh_dacunits(79,1)\n",
    "\n",
    "####### CONFIGURE THE FRONT END ######\n",
    "\n",
    "# SET VRESET_P, THIS IS THE BASELINE OF THE FRONT END INPUT, ONE HOT ENCODING\n",
    "chip.set_vreset_dacunits(35,1) #1V\n",
    "\n",
    "## 128-bit DAC (7-bit binary equivalent)\n",
    "## SET THE CURRENTS USING THERMOMETER ENCODING, I = #BITS_ACTIVE*140nA*SCALING, SCALING IS DIFFERENT FOR EACH CURRENT\n",
    "## SCALING: IBIAS=10, IDB=16, ITHR=0.125, ICASN=4, IRESET=0.03125\n",
    "## ACTIVE BITS SHOULD BE SET STARTING FROM THE MIDDLE e.g. for 15 active bits, (128-15)/2=56,5 so 56zeros,15ones,57zeros\n",
    "## Thus, Ix[71:57] = True\n",
    "\n",
    "# SET ICASN, THIS CURRENT CONTROLS THE OUTPUT BASELINE, BE CAREFUL NOT TO SET IT TO HIGH\n",
    "# ALWAYS MONITOR THE POWER AFTER SETTING ICASN. IF VDDD IS SEVERAL mA, REDUCE IT UNTIL IT RETURNS TO 0\n",
    "# ICASN MAINLY CONTROLS THE THRESHOLD\n",
    "chip.set_icasn_dacunits(0,1) #4.375nA # approx 1.084V at -3V backbias, 600mV at 0V backbias\n",
    "\n",
    "# SET IRESET, THIS CURRENT CONTROLS THE RESET RATE OF THE FRONT END INPUT (ALSO THE THRESHOLD)\n",
    "chip.set_ireset_dacunits(128+2,1) #270pA, HIGH LEAKAGE MODE, NORMAL SCALING, 0 = LOW LEAKAGE MODE, SCALING*0.01\n",
    "\n",
    "# SET ITHR, THIS CURRENT CONTROLS THE RESET RATE OF THE OUTPUT (AND THE THRESHOLD)\n",
    "chip.set_ithr_dacunits(10,1) #680pA\n",
    "\n",
    "# SET ITHR, THIS CURRENT CONTROLS THE BIASING OF THE chip.get_power_status()DISCRI17.050179545339105,MINATOR (AND THE THRESHOLD)\n",
    "chip.set_idb_dacunits(20,1) #500nA\n",
    "\n",
    "# SET IBIAS, THIS CURRENT IS THE DC CURRENT OF THE MAIN BRANCH OF THE FRONT END THAT PROVIDES AMPLIFICATION\n",
    "# IT CONTROLS MAINLY THE RISE TIME\n",
    "chip.set_ibias_dacunits(50,1) #500nA  # default 50\n",
    "chip.get_power_status()\n",
    "############ ENABLE THE DAC CURRENT MONITORING ###########\n",
    "# chip['CONF_SR']['SWCNTL_DACMONI'] = 0\n",
    "\n",
    "########## SET THE BIAS CURRENTS OF THE TWO STAGE SOURCE 157.3336886021775,FOLLOWER THAT BUFFERS THE ANALOG MONITORING VOLTAGES #########\n",
    "# CONTROLS THE RESPONSE TIME AND THE LEVEL SHIFT OF THE BUFFER\n",
    "# chip['CONF_SR']['SET_IBUFN_L'] = 0b1001\n",
    "# chip['CONF_SR']['SET_IBUFP_L'] = 0b0101\n",
    "\n",
    "chip.write_conf()"
   ]
  },
  {
   "cell_type": "code",
   "execution_count": 46,
   "metadata": {},
   "outputs": [
    {
     "data": {
      "text/plain": [
       "{'BiasSF [V]': 1.0557956600052592,\n",
       " 'BiasSF [mA]': 0.10077342028985505,\n",
       " 'VDDA [V]': 1.7825418966900703,\n",
       " 'VDDA [mA]': 63.25554756042122,\n",
       " 'VDDA_DAC [V]': 1.7981297475149105,\n",
       " 'VDDA_DAC [mA]': 3.513856326790666,\n",
       " 'VDDD [V]': 1.799880103792415,\n",
       " 'VDDD [mA]': 0.501475573372531,\n",
       " 'VDDP [V]': 1.788289688,\n",
       " 'VDDP [mA]': 174.3157375635856,\n",
       " 'VPC [V]': 1.3011486090545272,\n",
       " 'VPC [mA]': 0.16147684684316002,\n",
       " 'VPCSWSF [V]': 0.4999735,\n",
       " 'VPCSWSF [mA]': -0.03264540093169041}"
      ]
     },
     "execution_count": 46,
     "metadata": {},
     "output_type": "execute_result"
    }
   ],
   "source": [
    "#chip['CONF_SR']['SET_IBIAS'].setall(False)\n",
    "#chip['CONF_SR']['SET_IBIAS'][70:30] = True\n",
    "chip.get_power_status()\n",
    "#chip['VDDA'].get_current(unit='mA')"
   ]
  },
  {
   "cell_type": "code",
   "execution_count": 47,
   "metadata": {
    "scrolled": false
   },
   "outputs": [
    {
     "name": "stderr",
     "output_type": "stream",
     "text": [
      "2018-03-14 11:07:39,645 [INFO ] (MainThread) Initializing SimpleScan\n",
      "2018-03-14 11:07:39,652 [INFO ] (MainThread) Creating ZMQ context\n",
      "2018-03-14 11:07:39,653 [INFO ] (MainThread) Creating socket connection to server tcp://127.0.0.1:5500\n",
      "2018-03-14 11:07:39,655 [INFO ] (MainThread) ScanBase.start:data_send.data_send_init connected=<zmq.sugar.socket.Socket object at 0x7f5dbf100520>\n",
      "2018-03-14 11:07:39,776 [INFO ] (MainThread) Chip Status: {'VPC [V]': 1.3006487843921961, 'VDDA_DAC [mA]': 3.513856326790666, 'VDDP [V]': 1.788289688, 'VDDD [V]': 1.7988818063872254, 'VDDA [mA]': 63.25554756042122, 'VPC [mA]': 0.250238975496725, 'VDDD [mA]': 0.501475573372531, 'VPCSWSF [V]': 0.4999735, 'VDDP [mA]': 174.3157375635856, 'BiasSF [V]': 1.0557956600052592, 'VPCSWSF [mA]': -0.27673240066554333, 'VDDA [V]': 1.7825418966900703, 'VDDA_DAC [V]': 1.7981297475149105, 'BiasSF [mA]': 0.10026885347326334}\n",
      "2018-03-14 11:07:39,778 [INFO ] (MainThread) Resetting SRAM FIFO: size = 15920\n",
      "2018-03-14 11:07:40,115 [INFO ] (MainThread) Starting FIFO readout\n",
      "2018-03-14 11:07:40,117 [WARNI] (MainThread) SRAM FIFO not empty when starting FIFO readout: size = 15552\n",
      "2018-03-14 11:07:40,119 [INFO ] (MainThread) *****SimpleScan is running **** don't forget to start tlu ****\n",
      "2018-03-14 11:07:40,121 [INFO ] (MainThread) time=0s dat=0 rate=0.000k/s\n",
      "2018-03-14 11:08:00,131 [ERROR] (MainThread) FIFO stopped due to timeout after 10.0 second(s)\n",
      "2018-03-14 11:08:00,133 [INFO ] (MainThread) Stopped FIFO readout\n",
      "2018-03-14 11:08:00,136 [INFO ] (MainThread) Recived words: 8288540\n",
      "2018-03-14 11:08:00,137 [INFO ] (MainThread) Data queue size: 0\n",
      "2018-03-14 11:08:00,139 [INFO ] (MainThread) SRAM FIFO size: 19264\n",
      "2018-03-14 11:08:00,140 [INFO ] (MainThread) Channel:                     TDC | DATA_RX | TLU | TIMESTAMP\n",
      "2018-03-14 11:08:00,141 [INFO ] (MainThread) Discard counter:             None |       0 |   0 |         0\n",
      "2018-03-14 11:08:00,263 [INFO ] (MainThread) Chip Status: {'VPC [V]': 1.3006487843921961, 'VDDA_DAC [mA]': 3.513856326790666, 'VDDP [V]': 1.788289688, 'VDDD [V]': 1.799880103792415, 'VDDA [mA]': 63.25554756042122, 'VPC [mA]': -0.24472272496129002, 'VDDD [mA]': 0.501475573372531, 'VPCSWSF [V]': 0.4999735, 'VDDP [mA]': 173.8162655353089, 'BiasSF [V]': 1.055296085222193, 'VPCSWSF [mA]': -0.04921920955559401, 'VDDA [V]': 1.7825418966900703, 'VDDA_DAC [V]': 1.7981297475149105, 'BiasSF [mA]': 0.10026885347326334}\n",
      "2018-03-14 11:08:00,293 [INFO ] (MainThread) Closing socket connection\n"
     ]
    },
    {
     "name": "stdout",
     "output_type": "stream",
     "text": [
      "0 8288539 100.000% 0.043s 2072135hits\n"
     ]
    }
   ],
   "source": [
    "reload( tjmonopix.scans.simple_scan)\n",
    "\n",
    "scan =  tjmonopix.scans.simple_scan.SimpleScan(dut=chip)\n",
    "scan.start(with_timestamp=False,with_tlu=False, with_tdc=False,scan_time=10)\n",
    "scan.analyze()"
   ]
  },
  {
   "cell_type": "code",
   "execution_count": 31,
   "metadata": {
    "scrolled": true
   },
   "outputs": [
    {
     "name": "stdout",
     "output_type": "stream",
     "text": [
      "15945\n",
      "[(0, 83, 60, 15, 1) (1, 83, 19, 61, 1) (1, 82, 19,  4, 1) ...\n",
      " (1, 66, 42, 43, 1) (0, 65, 42, 43, 1) (0, 64, 39, 48, 1)]\n"
     ]
    }
   ],
   "source": [
    "#chip['data_rx'].reset()\n",
    "chip['data_rx'].set_en(True)\n",
    "\n",
    "x = chip['fifo'].get_data()\n",
    "\n",
    "ix = chip.interprete_data(x)\n",
    "\n",
    "print len(ix)\n",
    "print(ix)\n",
    "chip['data_rx'].set_en(False)"
   ]
  },
  {
   "cell_type": "markdown",
   "metadata": {},
   "source": [
    "****************************SET THE INJECTION PULSE PARAMETERS, INJECT x times and get the data**************************"
   ]
  }
 ],
 "metadata": {
  "kernelspec": {
   "display_name": "Python 2",
   "language": "python",
   "name": "python2"
  },
  "language_info": {
   "codemirror_mode": {
    "name": "ipython",
    "version": 2
   },
   "file_extension": ".py",
   "mimetype": "text/x-python",
   "name": "python",
   "nbconvert_exporter": "python",
   "pygments_lexer": "ipython2",
   "version": "2.7.14"
  }
 },
 "nbformat": 4,
 "nbformat_minor": 2
}
