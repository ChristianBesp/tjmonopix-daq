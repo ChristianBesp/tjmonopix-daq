{
 "cells": [
  {
   "cell_type": "markdown",
   "metadata": {},
   "source": [
    "**************************************************INITIALIZATION*********************************************************"
   ]
  },
  {
   "cell_type": "code",
   "execution_count": 87,
   "metadata": {},
   "outputs": [
    {
     "name": "stderr",
     "output_type": "stream",
     "text": [
      "2018-03-09 17:11:15,806 - [root           ] - ERROR   'NoneType' object has no attribute 'WriteExternal'\n",
      "2018-03-09 17:11:15,818 - [root           ] - INFO    Found USB board(s): USBpix with ID 129 (FW 08)\n",
      "2018-03-09 17:11:15,821 - [root           ] - INFO    Programming FPGA: tjmonopix_mioB.bit...\n",
      "2018-03-09 17:11:23,987 - [root           ] - INFO    Success!\n",
      "2018-03-09 17:11:24,434 - [root           ] - INFO    Found adapter card: General Purpose Analog Card with ID 12\n",
      "2018-03-09 17:11:24,457 - [root           ] - INFO    Initializing fifo (firmware version: 2), module basil.HL.sram_fifo, base_addr 0x18000\n",
      "2018-03-09 17:11:24,459 - [root           ] - INFO    Initializing gpio (firmware version: 0), module basil.HL.gpio, base_addr 0x10000\n",
      "2018-03-09 17:11:24,462 - [root           ] - INFO    Initializing spi (firmware version: 2), module basil.HL.spi, base_addr 0x11000\n",
      "2018-03-09 17:11:24,466 - [root           ] - INFO    Initializing inj (firmware version: 3), module basil.HL.pulse_gen, base_addr 0x10100\n",
      "2018-03-09 17:11:24,469 - [root           ] - INFO    Initializing data_rx (firmware version: 2), module tjmonopix.tjmono_data_rx, base_addr 0x10500\n",
      "2018-03-09 17:11:24,471 - [root           ] - INFO    Initializing tlu (firmware version: 10), module basil.HL.tlu, base_addr 0x10600\n",
      "2018-03-09 17:11:24,475 - [root           ] - INFO    Initializing timestamp (firmware version: 2), module basil.HL.timestamp, base_addr 0x10700\n",
      "2018-03-09 17:11:24,478 - [root           ] - INFO    Initializing tdc (firmware version: 2), module basil.HL.tdc_s3, base_addr 0x10300\n",
      "2018-03-09 17:11:24,481 - [root           ] - INFO    Initializing gate_tdc (firmware version: 3), module basil.HL.pulse_gen, base_addr 0x10400\n"
     ]
    },
    {
     "name": "stdout",
     "output_type": "stream",
     "text": [
      "4099\n"
     ]
    },
    {
     "data": {
      "text/plain": [
       "{'VDDA [V]': 1.7825418966900703,\n",
       " 'VDDA [mA]': 57.689059348560995,\n",
       " 'VDDA_DAC [V]': 1.7981297475149105,\n",
       " 'VDDA_DAC [mA]': 3.513856326790666,\n",
       " 'VDDD [V]': 1.799880103792415,\n",
       " 'VDDD [mA]': 0.501475573372531,\n",
       " 'VDDP [V]': 1.788289688,\n",
       " 'VDDP [mA]': 155.33580048907064}"
      ]
     },
     "execution_count": 87,
     "metadata": {},
     "output_type": "execute_result"
    }
   ],
   "source": [
    "from tjmonopix.tjmonopix import TJMonoPix\n",
    "import time\n",
    "import tjmonopix.scans.simple_scan\n",
    "\n",
    "chip = TJMonoPix()\n",
    "chip['CONF']['DEF_CONF_N'] = 0\n",
    "chip['CONF']['AB_SELECT'] = 1\n",
    "chip['CONF'].write()\n",
    "chip.init()\n",
    "\n",
    "chip['data_rx'].CONF_START_FREEZE = 15 #default 3\n",
    "chip['data_rx'].CONF_STOP_FREEZE = 100 #default 40\n",
    "chip['data_rx'].CONF_START_READ = 35 #default 6\n",
    "chip['data_rx'].CONF_STOP_READ = 37 #default 7\n",
    "chip['data_rx'].CONF_STOP = 105 #default 45\n",
    "\n",
    "chip.power_on()\n",
    "\n",
    "chip['CONF']['RESET_BCID'] = 1\n",
    "chip['CONF']['RESET'] = 1\n",
    "chip['CONF'].write()\n",
    "\n",
    "chip['CONF']['EN_BX_CLK'] = 1\n",
    "chip['CONF']['EN_OUT_CLK'] = 1\n",
    "chip['CONF'].write()\n",
    " \n",
    "chip['CONF']['RESET_BCID'] = 0\n",
    "chip['CONF']['RESET'] = 0\n",
    "chip['CONF'].write()\n",
    "\n",
    "chip.default_conf()\n",
    "\n",
    "#-------------------------------------------------#\n",
    "chip.set_icasn_dacunits(0,0)\n",
    "chip.set_vreset_dacunits(35,0)\n",
    "chip.set_ireset_dacunits(5,1,0)\n",
    "chip.set_ithr_dacunits(30,0)\n",
    "chip.set_idb_dacunits(50,0)\n",
    "\n",
    "chip['CONF_SR']['EN_HV'].setall(False)\n",
    "chip['CONF_SR']['EN_COMP'].setall(False)\n",
    "chip['CONF_SR']['EN_PMOS'].setall(False)\n",
    "chip['CONF_SR']['EN_PMOS_NOSF'].setall(False)\n",
    "chip['CONF_SR']['EN_TEST_PATTERN'].setall(False)\n",
    "\n",
    "chip['CONF_SR']['MASKD'].setall(False)\n",
    "chip['CONF_SR']['MASKH'].setall(False)\n",
    "chip['CONF_SR']['MASKV'].setall(False)\n",
    "\n",
    "chip.write_conf()\n",
    "\n",
    "chip['CONF']['DEF_CONF_N'] = 1\n",
    "chip['CONF'].write()\n",
    "#chip['BiasSF'].set_current(100, unit='uA') # SET THE SOURCE FOLLOWER READOUT CURRENT\n",
    "chip.get_power_status()"
   ]
  },
  {
   "cell_type": "markdown",
   "metadata": {},
   "source": [
    "****************************************************POWER_STATUS*********************************************************"
   ]
  },
  {
   "cell_type": "code",
   "execution_count": 88,
   "metadata": {},
   "outputs": [],
   "source": [
    "chip['CONF_SR']['MASKD'].setall(False)\n",
    "chip['CONF_SR']['MASKH'].setall(False)\n",
    "chip['CONF_SR']['MASKV'].setall(False)\n",
    "chip['CONF_SR']['EN_PMOS'].setall(False)\n",
    "\n",
    "chip.write_conf()"
   ]
  },
  {
   "cell_type": "code",
   "execution_count": 89,
   "metadata": {},
   "outputs": [],
   "source": [
    "# SELECT WHICH DOUBLE COLUMNS TO ENABLE\n",
    "chip['CONF_SR']['EN_PMOS_NOSF'].setall(False)\n",
    "chip['CONF_SR']['EN_PMOS'].setall(False)\n",
    "chip['CONF_SR']['EN_COMP'].setall(False)\n",
    "chip['CONF_SR']['EN_HV'].setall(False)\n",
    "chip['CONF_SR']['EN_OUT'].setall(False) #ENABLES OR DISABLES THE NORMAL OUTPUT PADS, ACTIVE LOW\n",
    "chip['CONF_SR']['nEN_OUT'].setall(True) #ENABLES OR DISABLES THE COMPLEMENTARY OUTPUT PADS, ACTIVE LOW\n",
    "chip['CONF_SR']['EN_HITOR_OUT'].setall(True) #ENABLES OR DISABLES THE NORMAL HITOR PADS, HITOR0-3 =  1-4 flavor, ACTIVE LOW\n",
    "chip['CONF_SR']['nEN_HITOR_OUT'].setall(True) #ENABLES OR DISABLES THE COMPLEMENTARY HITOR PADS, ACTIVE LOW\n",
    "\n",
    "#chip['CONF_SR']['EN_PMOS'].setall(True)\n",
    "chip['CONF_SR']['EN_PMOS'][9] = 1\n",
    "chip['CONF_SR']['EN_PMOS'][10] = 1\n",
    "chip['CONF_SR']['EN_PMOS'][11] = 1\n",
    "chip['CONF_SR']['EN_HITOR_OUT'][1] = 0\n",
    "\n",
    "# SELECT WHICH PHYSICAL COLUMNS, ROWS, DIAGONALS TO MASK\n",
    "# TO MASK ONE PIXEL, MASKV, MASKH and MASKD OF THIS PIXEL SHOULD BE 0 (FALSE)\n",
    "# THE MASKD NUMBER OF THE PIXEL WE WANT TO MASK (or UNMASK), IS GIVEN BY: MASKD = PHYSCOL- PHYSROW\n",
    "# IF PHYSCOL-PHYSROW<0, then MASKD = 448+PHYSCOL-PHYSROW\n",
    "#chip['CONF_SR']['MASKD'].setall(False)\n",
    "#chip['CONF_SR']['MASKH'].setall(False)\n",
    "#chip['CONF_SR']['MASKV'].setall(False)\n",
    "\n",
    "# TO USE THE MASK FUNCTION YOU MUST INPUT THE FLAVOR, COLUMN AND ROW\n",
    "# THE FLAVOR NUMERS IS: 0 FOR PMOS_NOSF, 1 FOR PMOS, 2 FOR COMP, 3 FOR HV\n",
    "\n",
    "for d in range(28,34):\n",
    "   chip['CONF_SR']['MASKD'][d] = True\n",
    "for i in range(99,105):    \n",
    "   chip['CONF_SR']['MASKH'][i] = True\n",
    "chip['CONF_SR']['MASKH'][102] = False\n",
    "\n",
    "# chip['CONF_SR']['MASKD'].setall(True)\n",
    "# chip['CONF_SR']['MASKH'].setall(True)\n",
    "# chip['CONF_SR']['MASKV'][224:112] = True\n",
    "# chip['CONF_SR']['EN_PMOS'].setall(True)\n",
    "\n",
    "chip.mask(1, 33, 72)\n",
    "chip.mask(1, 17, 30)\n",
    "chip.mask(1, 41, 66)\n",
    "chip.mask(1, 97, 94)\n",
    "chip.mask(1, 34, 151)\n",
    "chip.mask(1, 40, 123)\n",
    "chip.mask(1, 82, 193)\n",
    "\n",
    "# SELECT WHICH PHYSICAL COLUMS TO INJECT\n",
    "# INJ_IN_MON_L AND INJ_IN_MON_L SELECT THE LEFT AND RIGHT SPECIAL ANALOG MONITORING PIXELS\n",
    "chip['CONF_SR']['COL_PULSE_SEL'].setall(False)\n",
    "\n",
    "chip['CONF_SR']['INJ_IN_MON_L'] = 1 # ENABLE INJECTION FOR THE ANALOG MONITORING PIXELS LEFT SIDE\n",
    "chip['CONF_SR']['INJ_IN_MON_R'] = 1 # ENABLE INJECTION FOR THE ANALOG MONITORING PIXELS RIGHT SIDE\n",
    "\n",
    "# SELECT WHICH PHYSICAL ROWS TO INJECT\n",
    "# THE SPEXIAL PIXELS OUTA_MON3 to OUTA_MON0 CORRESPONT TO ROWS 223 to 220 FOR INJECTION\n",
    "chip['CONF_SR']['INJ_ROW'].setall(False)\n",
    "chip['CONF_SR']['INJ_ROW'][223] = True # FOR THE ANALOG MONITORING TOP PIXEL\n",
    "chip['CONF_SR']['INJ_ROW'][99] = True\n",
    "\n",
    "# SELECT PHYSICAL COLUMNS AND ROWS FOR INJECTION WITH FUNCTION\n",
    "chip.enable_injection(1,18,99)\n",
    "\n",
    "# SELECT PHYSICAL COLUMN(S) FOR HITOR OUTPUT\n",
    "# nMASKH (SO SETTING MASKH TO FALSE) ENABLES HITOR FOR THE SPECIFIC ROW\n",
    "chip['CONF_SR']['DIG_MON_SEL'].setall(False)\n",
    "\n",
    "chip.enable_column_hitor(1,20)\n",
    "\n",
    "chip.write_conf()"
   ]
  },
  {
   "cell_type": "markdown",
   "metadata": {},
   "source": [
    "******************INITIALIZE COMMUNICATION, RECEIVE DATA (CHECK IF DATA ARE SENT WITH EACH EXCECUTION)*******************"
   ]
  },
  {
   "cell_type": "markdown",
   "metadata": {},
   "source": [
    "************CONFIGURE THE FRONT END CURRENT AND VOLTAGE BIASES, CONFIGURE THE HEIGHT OF THE INJECTION PULSE**************"
   ]
  },
  {
   "cell_type": "code",
   "execution_count": 90,
   "metadata": {},
   "outputs": [
    {
     "name": "stdout",
     "output_type": "stream",
     "text": [
      "vl = 1.07948818898V\n",
      "vh = 1.50468503937V\n",
      "vreset = 1.12192913386V\n",
      "icasn = 4.375nA\n",
      "ireset = 0.13671875nA, high leakage mode\n",
      "ithr = 2.1875nA\n",
      "idb = 367.5nA\n",
      "ibias = 1104.6875nA\n"
     ]
    }
   ],
   "source": [
    "## SET THE INJECTION PULSE AMPLITUDE\n",
    "## 128-bit DAC (7-bit binary equivalent)\n",
    "## SET THE VOLTAGES IN ONE HOT ENCODING, ONLY ONE BIT ACTIVE AT A TIME.\n",
    "## V = (127/1.8)*#BIT\n",
    "# The default values are VL=44, VH=79, VH-VL=35\n",
    "# VDAC LSB=14.17mV, Cinj=230aF, 1.43e-/mV, ~710e-\n",
    "chip.set_vl_dacunits(49,1)\n",
    "chip.set_vh_dacunits(79,1)\n",
    "\n",
    "####### CONFIGURE THE FRONT END ######\n",
    "\n",
    "# SET VRESET_P, THIS IS THE BASELINE OF THE FRONT END INPUT, ONE HOT ENCODING\n",
    "chip.set_vreset_dacunits(40,1) #1V\n",
    "\n",
    "## 128-bit DAC (7-bit binary equivalent)\n",
    "## SET THE CURRENTS USING THERMOMETER ENCODING, I = #BITS_ACTIVE*140nA*SCALING, SCALING IS DIFFERENT FOR EACH CURRENT\n",
    "## SCALING: IBIAS=10, IDB=16, ITHR=0.125, ICASN=4, IRESET=0.03125\n",
    "## ACTIVE BITS SHOULD BE SET STARTING FROM THE MIDDLE e.g. for 15 active bits, (128-15)/2=56,5 so 56zeros,15ones,57zeros\n",
    "## Thus, Ix[71:57] = True\n",
    "\n",
    "# SET ICASN, THIS CURRENT CONTROLS THE OUTPUT BASELINE, BE CAREFUL NOT TO SET IT TO HIGH\n",
    "# ALWAYS MONITOR THE POWER AFTER SETTING ICASN. IF VDDD IS SEVERAL mA, REDUCE IT UNTIL IT RETURNS TO 0\n",
    "# ICASN MAINLY CONTROLS THE THRESHOLD\n",
    "chip.set_icasn_dacunits(0,1) #4.375nA # approx 1.084V at -3V backbias, 600mV at 0V backbias\n",
    "\n",
    "# SET IRESET, THIS CURRENT CONTROLS THE RESET RATE OF THE FRONT END INPUT (ALSO THE THRESHOLD)\n",
    "chip.set_ireset_dacunits(3,1,1) #270pA, HIGH LEAKAGE MODE, NORMAL SCALING, 0 = LOW LEAKAGE MODE, SCALING*0.01\n",
    "\n",
    "# SET ITHR, THIS CURRENT CONTROLS THE RESET RATE OF THE OUTPUT (AND THE THRESHOLD)\n",
    "chip.set_ithr_dacunits(15,1) #680pA\n",
    "\n",
    "# SET ITHR, THIS CURRENT CONTROLS THE BIASING OF THE chip.get_power_status()DISCRI17.050179545339105,MINATOR (AND THE THRESHOLD)\n",
    "chip.set_idb_dacunits(20,1) #500nA\n",
    "\n",
    "# SET IBIAS, THIS CURRENT IS THE DC CURRENT OF THE MAIN BRANCH OF THE FRONT END THAT PROVIDES AMPLIFICATION\n",
    "# IT CONTROLS MAINLY THE RISE TIME\n",
    "chip.set_ibias_dacunits(100,1) #500nA  # default 50\n",
    "chip.get_power_status()\n",
    "############ ENABLE THE DAC CURRENT MONITORING ###########\n",
    "# chip['CONF_SR']['SWCNTL_DACMONI'] = 0\n",
    "\n",
    "########## SET THE BIAS CURRENTS OF THE TWO STAGE SOURCE FOLLOWER THAT BUFFERS THE ANALOG MONITORING VOLTAGES #########\n",
    "# CONTROLS THE RESPONSE TIME AND THE LEVEL SHIFT OF THE BUFFER\n",
    "# chip['CONF_SR']['SET_IBUFN_L'] = 0b1001\n",
    "# chip['CONF_SR']['SET_IBUFP_L'] = 0b0101\n",
    "\n",
    "chip.write_conf()"
   ]
  },
  {
   "cell_type": "code",
   "execution_count": 26,
   "metadata": {},
   "outputs": [
    {
     "data": {
      "text/plain": [
       "{'VDDA [V]': 1.7825418966900703,\n",
       " 'VDDA [mA]': 81.9791897275874,\n",
       " 'VDDA_DAC [V]': 1.7981297475149105,\n",
       " 'VDDA_DAC [mA]': 3.513856326790666,\n",
       " 'VDDD [V]': 1.799880103792415,\n",
       " 'VDDD [mA]': 0.501475573372531,\n",
       " 'VDDP [V]': 1.788289688,\n",
       " 'VDDP [mA]': 173.8162655353089}"
      ]
     },
     "execution_count": 26,
     "metadata": {},
     "output_type": "execute_result"
    }
   ],
   "source": [
    "chip.get_power_status()"
   ]
  },
  {
   "cell_type": "code",
   "execution_count": 94,
   "metadata": {
    "scrolled": false
   },
   "outputs": [
    {
     "name": "stderr",
     "output_type": "stream",
     "text": [
      "2018-03-09 17:14:57,649 - [root           ] - INFO    Initializing SimpleScan\n",
      "2018-03-09 17:14:57,653 - [root           ] - INFO    Creating ZMQ context\n",
      "2018-03-09 17:14:57,655 - [root           ] - INFO    Creating socket connection to server tcp://127.0.0.1:5500\n",
      "2018-03-09 17:14:57,657 - [root           ] - INFO    ScanBase.start:data_send.data_send_init connected=<zmq.sugar.socket.Socket object at 0x7f2c2e173c80>\n",
      "2018-03-09 17:14:57,660 - [root           ] - INFO    Resetting SRAM FIFO: size = 0\n",
      "2018-03-09 17:14:57,884 - [root           ] - INFO    Starting FIFO readout\n",
      "2018-03-09 17:14:57,888 - [root           ] - WARNING SRAM FIFO not empty when starting FIFO readout: size = 704\n",
      "2018-03-09 17:14:57,891 - [root           ] - INFO    *****SimpleScan is running **** don't forget to start tlu ****\n",
      "2018-03-09 17:14:57,894 - [root           ] - INFO    time=0s dat=176 rate=67.588k/s\n",
      "2018-03-09 17:15:07,969 - [root           ] - INFO    Stopped FIFO readout\n",
      "2018-03-09 17:15:07,971 - [root           ] - INFO    Closing socket connection\n"
     ]
    }
   ],
   "source": [
    "\n",
    "reload( tjmonopix.scans.simple_scan)\n",
    "\n",
    "scan =  tjmonopix.scans.simple_scan.SimpleScan(dut=chip)\n",
    "scan.start(with_timestamp=False,scan_time=10, with_tdc=True, with_tlu=False)\n",
    "scan.analyze()"
   ]
  },
  {
   "cell_type": "code",
   "execution_count": 81,
   "metadata": {
    "scrolled": true
   },
   "outputs": [
    {
     "name": "stdout",
     "output_type": "stream",
     "text": [
      "38\n",
      "[(19, 101,  6, 19, 0) (23, 101, 43, 53, 0) (18, 101, 21,  3, 0)\n",
      " (18, 101, 61, 27, 0) (18, 100, 62, 14, 0) (18, 101, 41, 57, 0)\n",
      " (20, 102, 42, 62, 0) (20, 101, 42, 53, 0) (23,  99, 40,  3, 0)\n",
      " (22, 104, 32,  0, 0) (22, 103, 32, 19, 0) (18, 104,  7, 25, 0)\n",
      " (18, 103,  7, 39, 1) (18,  98, 41, 35, 0) (18,  97, 41, 37, 0)\n",
      " (19, 104,  1, 24, 0) (20, 100, 12, 12, 0) (18, 104, 20, 26, 0)\n",
      " (18, 100, 26,  5, 0) (22, 106, 25, 49, 0) (23, 105, 26, 32, 0)\n",
      " (22, 103, 41,  3, 0) (19, 104, 53, 57, 0) (21, 100, 15, 26, 0)\n",
      " (20, 100, 14, 10, 1) (23, 103, 15, 36, 0) (23,  99, 15, 21, 0)\n",
      " (18, 103, 52, 57, 0) (19, 103, 51,  5, 0) (18, 102, 62,  8, 0)\n",
      " (19,  98, 25, 38, 0) (18,  98, 25, 63, 1) (18,  97, 25, 42, 1)\n",
      " (19, 103, 20, 53, 0) (19, 101, 62, 13, 0) (23, 105, 25, 34, 0)\n",
      " (21, 102,  0,  7, 0) (22, 102, 63, 30, 1)]\n"
     ]
    }
   ],
   "source": [
    "#chip['data_rx'].reset()\n",
    "chip['data_rx'].set_en(True)\n",
    "\n",
    "x = chip['fifo'].get_data()\n",
    "\n",
    "ix = chip.interprete_data(x)\n",
    "\n",
    "print len(ix)\n",
    "print(ix)"
   ]
  },
  {
   "cell_type": "markdown",
   "metadata": {},
   "source": [
    "****************************SET THE INJECTION PULSE PARAMETERS, INJECT x times and get the data**************************"
   ]
  }
 ],
 "metadata": {
  "kernelspec": {
   "display_name": "Python 2",
   "language": "python",
   "name": "python2"
  },
  "language_info": {
   "codemirror_mode": {
    "name": "ipython",
    "version": 2
   },
   "file_extension": ".py",
   "mimetype": "text/x-python",
   "name": "python",
   "nbconvert_exporter": "python",
   "pygments_lexer": "ipython2",
   "version": "2.7.14"
  }
 },
 "nbformat": 4,
 "nbformat_minor": 2
}
