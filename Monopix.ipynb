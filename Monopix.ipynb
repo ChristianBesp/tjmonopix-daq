{
 "cells": [
  {
   "cell_type": "markdown",
   "metadata": {},
   "source": [
    "**************************************************INITIALIZATION*********************************************************"
   ]
  },
  {
   "cell_type": "code",
   "execution_count": 1,
   "metadata": {},
   "outputs": [
    {
     "name": "stderr",
     "output_type": "stream",
     "text": [
      "2018-02-28 19:38:45,486 - [root           ] - ERROR   'NoneType' object has no attribute 'WriteExternal'\n",
      "2018-02-28 19:38:45,518 - [root           ] - INFO    Found USB board(s): USBpix with ID 207 (FW 15)\n",
      "2018-02-28 19:38:45,520 - [root           ] - INFO    Programming FPGA: tjmonopix_mio.bit...\n",
      "2018-02-28 19:38:53,465 - [root           ] - INFO    Success!\n",
      "2018-02-28 19:38:53,885 - [root           ] - INFO    Found adapter card: General Purpose Analog Card with ID 1\n",
      "2018-02-28 19:38:53,907 - [root           ] - INFO    Initializing fifo (firmware version: 2), module basil.HL.sram_fifo, base_addr 0x18000\n",
      "2018-02-28 19:38:53,909 - [root           ] - INFO    Initializing gpio (firmware version: 0), module basil.HL.gpio, base_addr 0x10000\n",
      "2018-02-28 19:38:53,912 - [root           ] - INFO    Initializing spi (firmware version: 2), module basil.HL.spi, base_addr 0x11000\n",
      "2018-02-28 19:38:53,915 - [root           ] - INFO    Initializing inj (firmware version: 3), module basil.HL.pulse_gen, base_addr 0x10100\n",
      "2018-02-28 19:38:53,917 - [root           ] - INFO    Initializing data_rx (firmware version: 2), module tjmonopix.tjmono_data_rx, base_addr 0x10500\n"
     ]
    },
    {
     "name": "stdout",
     "output_type": "stream",
     "text": [
      "4098\n"
     ]
    }
   ],
   "source": [
    "from tjmonopix.tjmonopix import TJMonoPix\n",
    "import time\n",
    "\n",
    "chip = TJMonoPix()\n",
    "chip['CONF']['DEF_CONF_N'] = 0\n",
    "chip['CONF']['AB_SELECT'] = 1\n",
    "chip['CONF'].write()\n",
    "chip.init()\n",
    "\n",
    "chip['data_rx'].CONF_START_FREEZE = 15 #default 3\n",
    "chip['data_rx'].CONF_STOP_FREEZE = 100 #default 40\n",
    "chip['data_rx'].CONF_START_READ = 35 #default 6\n",
    "chip['data_rx'].CONF_STOP_READ = 37 #default 7\n",
    "chip['data_rx'].CONF_STOP = 105 #default 45\n",
    "\n",
    "chip.power_on()\n",
    "\n",
    "chip['CONF']['RESET_BCID'] = 1\n",
    "chip['CONF']['RESET'] = 1\n",
    "chip['CONF'].write()\n",
    "\n",
    "chip['CONF']['EN_BX_CLK'] = 1\n",
    "chip['CONF']['EN_OUT_CLK'] = 1\n",
    "chip['CONF'].write()\n",
    " \n",
    "chip['CONF']['RESET_BCID'] = 0\n",
    "chip['CONF']['RESET'] = 0\n",
    "chip['CONF'].write()\n",
    "\n",
    "chip.default_conf()\n",
    "\n",
    "#-------------------------------------------------#\n",
    "chip.set_icasn_dacunits(0,0)\n",
    "chip.set_vreset_dacunits(35,0)\n",
    "chip.set_ireset_dacunits(5,1,0)\n",
    "chip.set_ithr_dacunits(30,0)\n",
    "chip.set_idb_dacunits(50,0)\n",
    "\n",
    "chip['CONF_SR']['EN_HV'].setall(False)\n",
    "chip['CONF_SR']['EN_COMP'].setall(False)\n",
    "chip['CONF_SR']['EN_PMOS'].setall(False)\n",
    "chip['CONF_SR']['EN_PMOS_NOSF'].setall(False)\n",
    "chip['CONF_SR']['EN_TEST_PATTERN'].setall(False)\n",
    "\n",
    "chip['CONF_SR']['MASKD'].setall(False)\n",
    "chip['CONF_SR']['MASKH'].setall(False)\n",
    "chip['CONF_SR']['MASKV'].setall(False)\n",
    "\n",
    "chip.write_conf()\n",
    "\n",
    "chip['CONF']['DEF_CONF_N'] = 1\n",
    "chip['CONF'].write()"
   ]
  },
  {
   "cell_type": "markdown",
   "metadata": {},
   "source": [
    "****************************************************POWER_STATUS*********************************************************"
   ]
  },
  {
   "cell_type": "code",
   "execution_count": 5,
   "metadata": {
    "scrolled": false
   },
   "outputs": [
    {
     "data": {
      "text/plain": [
       "{'VDDA [V]': 1.7925618542914172,\n",
       " 'VDDA [mA]': 62.43416855220045,\n",
       " 'VDDA_DAC [V]': 1.798314513944223,\n",
       " 'VDDA_DAC [mA]': 3.53162464064632,\n",
       " 'VDDD [V]': 1.799759839679359,\n",
       " 'VDDD [mA]': -3.3934469967968035e-08,\n",
       " 'VDDP [V]': 1.7937540430430434,\n",
       " 'VDDP [mA]': 171.8356966197751}"
      ]
     },
     "execution_count": 5,
     "metadata": {},
     "output_type": "execute_result"
    }
   ],
   "source": [
    "#chip['BiasSF'].set_current(100, unit='uA') # SET THE SOURCE FOLLOWER READOUT CURRENT\n",
    "chip.get_power_status()"
   ]
  },
  {
   "cell_type": "markdown",
   "metadata": {},
   "source": [
    "****************************ENABLE_COLUMS, SET MASKS, SELECT WHICH COLUMN AND ROW TO INJECT******************************"
   ]
  },
  {
   "cell_type": "code",
   "execution_count": 3,
   "metadata": {},
   "outputs": [],
   "source": [
    "# SELECT WHICH DOUBLE COLUMNS TO ENABLE\n",
    "chip['CONF_SR']['EN_PMOS_NOSF'].setall(False)\n",
    "chip['CONF_SR']['EN_PMOS'].setall(False)\n",
    "chip['CONF_SR']['EN_COMP'].setall(False)\n",
    "chip['CONF_SR']['EN_HV'].setall(False)\n",
    "chip['CONF_SR']['EN_OUT'].setall(False) #ENABLES OR DISABLES THE NORMAL OUTPUT PADS, ACTIVE LOW\n",
    "chip['CONF_SR']['nEN_OUT'].setall(True) #ENABLES OR DISABLES THE COMPLEMENTARY OUTPUT PADS, ACTIVE LOW\n",
    "chip['CONF_SR']['EN_HITOR_OUT'].setall(True) #ENABLES OR DISABLES THE NORMAL HITOR PADS, HITOR0-3 =  1-4 flavor, ACTIVE LOW\n",
    "chip['CONF_SR']['nEN_HITOR_OUT'].setall(True) #ENABLES OR DISABLES THE COMPLEMENTARY HITOR PADS, ACTIVE LOW\n",
    "\n",
    "#chip['CONF_SR']['EN_PMOS'][9] = 1\n",
    "chip['CONF_SR']['EN_PMOS'].setall(True)\n",
    "#chip['CONF_SR']['EN_HITOR_OUT'][1] = 0\n",
    "\n",
    "# SELECT WHICH PHYSICAL COLUMNS, ROWS, DIAGONALS TO MASK\n",
    "# TO MASK ONE PIXEL, MASKV, MASKH and MASKD OF THIS PIXEL SHOULD BE 0 (FALSE)\n",
    "# THE MASKD NUMBER OF THE PIXEL WE WANT TO MASK (or UNMASK), IS GIVEN BY: MASKD = PHYSCOL- PHYSROW\n",
    "# IF PHYSCOL-PHYSROW<0, then MASKD = 448+PHYSCOL-PHYSROW\n",
    "chip['CONF_SR']['MASKD'].setall(True)\n",
    "chip['CONF_SR']['MASKH'].setall(True)\n",
    "chip['CONF_SR']['MASKV'].setall(True)\n",
    "\n",
    "# TO USE THE MASK FUNCTION YOU MUST INPUT THE FLAVOR, COLUMN AND ROW\n",
    "# THE FLAVOR NUMERS IS: 0 FOR PMOS_NOSF, 1 FOR PMOS, 2 FOR COMP, 3 FOR HV\n",
    "chip.mask(1,5,179)\n",
    "chip.mask(1,59,95)\n",
    "chip.mask(1,42,136)\n",
    "chip.mask(1,60,137)\n",
    "chip.mask(1,86,126)\n",
    "\n",
    "chip.mask(1,102,139)\n",
    "chip.mask(1,66,39)\n",
    "chip.mask(1,103,154)\n",
    "chip.mask(1,102,149)\n",
    "chip.mask(1,38,144)\n",
    "chip.mask(1,45,131)\n",
    "chip.mask(1,101,131)\n",
    "chip.mask(1,106,119)\n",
    "chip.mask(1,0,101)\n",
    "chip.mask(1,11,117)\n",
    "chip.mask(1,81,51)\n",
    "chip.mask(1,39,93)\n",
    "chip.mask(1,80,144)\n",
    "chip.mask(1,29,103)\n",
    "chip.mask(1,66,129)\n",
    "chip.mask(1,35,157)\n",
    "chip.mask(1,13,16)\n",
    "chip.mask(1,23,45)\n",
    "chip.mask(1,48,157)\n",
    "chip.mask(1,26,60)\n",
    "chip.mask(1,102,134)\n",
    "chip.mask(1,87,184)\n",
    "chip.mask(1,108,1)\n",
    "chip.mask(1,45,149)\n",
    "chip.mask(1,24,96)\n",
    "chip.mask(1,28,98)\n",
    "chip.mask(1,42,210)\n",
    "chip.mask(1,108,196)\n",
    "\n",
    "#chip['CONF_SR']['MASKD'][31] = True\n",
    "#chip['CONF_SR']['MASKH'][99] = False\n",
    "\n",
    "# SELECT WHICH PHYSICAL COLUMS TO INJECT\n",
    "# INJ_IN_MON_L AND INJ_IN_MON_L SELECT THE LEFT AND RIGHT SPECIAL ANALOG MONITORING PIXELS\n",
    "chip['CONF_SR']['COL_PULSE_SEL'].setall(False)\n",
    "\n",
    "chip['CONF_SR']['INJ_IN_MON_L'] = 1 # ENABLE INJECTION FOR THE ANALOG MONITORING PIXELS LEFT SIDE\n",
    "chip['CONF_SR']['INJ_IN_MON_R'] = 0 # ENABLE INJECTION FOR THE ANALOG MONITORING PIXELS RIGHT SIDE\n",
    "\n",
    "# SELECT WHICH PHYSICAL ROWS TO INJECT\n",
    "# THE SPEXIAL PIXELS OUTA_MON3 to OUTA_MON0 CORRESPONT TO ROWS 223 to 220 FOR INJECTION\n",
    "chip['CONF_SR']['INJ_ROW'].setall(False)\n",
    "chip['CONF_SR']['INJ_ROW'][223] = True # FOR THE ANALOG MONITORING TOP PIXEL\n",
    "\n",
    "# SELECT PHYSICAL COLUMNS AND ROWS FOR INJECTION WITH FUNCTION\n",
    "chip.enable_injection(1,18,99)\n",
    "\n",
    "# SELECT PHYSICAL COLUMN(S) FOR HITOR OUTPUT\n",
    "# nMASKH (SO SETTING MASKH TO FALSE) ENABLES HITOR FOR THE SPECIFIC ROW\n",
    "chip['CONF_SR']['DIG_MON_SEL'].setall(False)\n",
    "#chip.enable_column_hitor(1,18)\n",
    "\n",
    "chip.write_conf()"
   ]
  },
  {
   "cell_type": "markdown",
   "metadata": {},
   "source": [
    "******************INITIALIZE COMMUNICATION, RECEIVE DATA (CHECK IF DATA ARE SENT WITH EACH EXCECUTION)*******************"
   ]
  },
  {
   "cell_type": "code",
   "execution_count": 21,
   "metadata": {},
   "outputs": [
    {
     "name": "stdout",
     "output_type": "stream",
     "text": [
      "[]\n"
     ]
    }
   ],
   "source": [
    "#chip['data_rx'].CONF_START_FREEZE = 15 #default 3\n",
    "#chip['data_rx'].CONF_STOP_FREEZE = 100 #default 40\n",
    "#chip['data_rx'].CONF_START_READ = 35 #default 6\n",
    "#chip['data_rx'].CONF_STOP_READ = 37 #default 7\n",
    "#chip['data_rx'].CONF_STOP = 105 #default 45\n",
    "\n",
    "#chip['CONF']['AB_SELECT'] = 1\n",
    "#chip['CONF'].write()\n",
    "\n",
    "chip['data_rx'].set_en(True)\n",
    "\n",
    "x = chip['fifo'].get_data()\n",
    "\n",
    "ix = chip.interprete_data(x)\n",
    "print(ix)"
   ]
  },
  {
   "cell_type": "markdown",
   "metadata": {},
   "source": [
    "************CONFIGURE THE FRONT END CURRENT AND VOLTAGE BIASES, CONFIGURE THE HEIGHT OF THE INJECTION PULSE**************"
   ]
  },
  {
   "cell_type": "code",
   "execution_count": 9,
   "metadata": {},
   "outputs": [
    {
     "name": "stdout",
     "output_type": "stream",
     "text": [
      "vl = 1.07948818898V\n",
      "vh = 1.50468503937V\n",
      "vreset = 1.12192913386V\n",
      "icasn = 4.375nA\n",
      "ireset = 0.1025390625nA, high leakage mode\n",
      "ithr = 0.8203125nA\n",
      "idb = 280.0nA\n",
      "ibias = 557.8125nA\n"
     ]
    }
   ],
   "source": [
    "## SET THE INJECTION PULSE AMPLITUDE\n",
    "## 128-bit DAC (7-bit binary equivalent)\n",
    "## SET THE VOLTAGES IN ONE HOT ENCODING, ONLY ONE BIT ACTIVE AT A TIME.\n",
    "## V = (127/1.8)*#BIT\n",
    "# The default values are VL=44, VH=79, VH-VL=35\n",
    "# VDAC LSB=14.17mV, Cinj=230aF, 1.43e-/mV, ~710e-\n",
    "chip.set_vl_dacunits(49,1)\n",
    "chip.set_vh_dacunits(79,1)\n",
    "\n",
    "####### CONFIGURE THE FRONT END ######\n",
    "\n",
    "# SET VRESET_P, THIS IS THE BASELINE OF THE FRONT END INPUT, ONE HOT ENCODING\n",
    "chip.set_vreset_dacunits(40,1) #1V\n",
    "\n",
    "## 128-bit DAC (7-bit binary equivalent)\n",
    "## SET THE CURRENTS USING THERMOMETER ENCODING, I = #BITS_ACTIVE*140nA*SCALING, SCALING IS DIFFERENT FOR EACH CURRENT\n",
    "## SCALING: IBIAS=10, IDB=16, ITHR=0.125, ICASN=4, IRESET=0.03125\n",
    "## ACTIVE BITS SHOULD BE SET STARTING FROM THE MIDDLE e.g. for 15 active bits, (128-15)/2=56,5 so 56zeros,15ones,57zeros\n",
    "## Thus, Ix[71:57] = True\n",
    "\n",
    "# SET ICASN, THIS CURRENT CONTROLS THE OUTPUT BASELINE, BE CAREFUL NOT TO SET IT TO HIGH\n",
    "# ALWAYS MONITOR THE POWER AFTER SETTING ICASN. IF VDDD IS SEVERAL mA, REDUCE IT UNTIL IT RETURNS TO 0\n",
    "# ICASN MAINLY CONTROLS THE THRESHOLD\n",
    "chip.set_icasn_dacunits(0,1) #4.375nA # approx 1.084V at -3V backbias, 600mV at 0V backbias\n",
    "\n",
    "# SET IRESET, THIS CURRENT CONTROLS THE RESET RATE OF THE FRONT END INPUT (ALSO THE THRESHOLD)\n",
    "chip.set_ireset_dacunits(2,1,1) #270pA, HIGH LEAKAGE MODE, NORMAL SCALING, 0 = LOW LEAKAGE MODE, SCALING*0.01\n",
    "\n",
    "# SET ITHR, THIS CURRENT CONTROLS THE RESET RATE OF THE OUTPUT (AND THE THRESHOLD)\n",
    "chip.set_ithr_dacunits(5,1) #680pA\n",
    "\n",
    "# SET ITHR, THIS CURRENT CONTROLS THE BIASING OF THE DISCRIMINATOR (AND THE THRESHOLD)\n",
    "chip.set_idb_dacunits(15,1) #500nA\n",
    "\n",
    "# SET IBIAS, THIS CURRENT IS THE DC CURRENT OF THE MAIN BRANCH OF THE FRONT END THAT PROVIDES AMPLIFICATION\n",
    "# IT CONTROLS MAINLY THE RISE TIME\n",
    "chip.set_ibias_dacunits(50,1) #500nA\n",
    "\n",
    "############ ENABLE THE DAC CURRENT MONITORING ###########\n",
    "# chip['CONF_SR']['SWCNTL_DACMONI'] = 0\n",
    "\n",
    "########## SET THE BIAS CURRENTS OF THE TWO STAGE SOURCE FOLLOWER THAT BUFFERS THE ANALOG MONITORING VOLTAGES #########\n",
    "# CONTROLS THE RESPONSE TIME AND THE LEVEL SHIFT OF THE BUFFER\n",
    "# chip['CONF_SR']['SET_IBUFN_L'] = 0b1001\n",
    "# chip['CONF_SR']['SET_IBUFP_L'] = 0b0101\n",
    "\n",
    "chip.write_conf()"
   ]
  },
  {
   "cell_type": "markdown",
   "metadata": {},
   "source": [
    "****************************SET THE INJECTION PULSE PARAMETERS, INJECT x times and get the data**************************"
   ]
  },
  {
   "cell_type": "code",
   "execution_count": 19,
   "metadata": {},
   "outputs": [
    {
     "name": "stdout",
     "output_type": "stream",
     "text": [
      "[(18, 223, 57,  3, 0) (18,  99, 56, 13, 0)]\n"
     ]
    }
   ],
   "source": [
    "#chip['inj'].reset()\n",
    "\n",
    "chip['inj'].set_delay(1000)\n",
    "chip['inj'].set_width(150)\n",
    "chip['inj'].set_repeat(1)\n",
    "chip['inj'].set_en(0)\n",
    "\n",
    "while not chip['inj'].is_ready:\n",
    "    time.sleep(0.001)\n",
    "\n",
    "for _ in range(10):\n",
    "    chip['inj'].is_ready\n",
    "\n",
    "chip[\"inj\"].start()\n",
    "\n",
    "x = chip['fifo'].get_data()\n",
    "\n",
    "ix = chip.interprete_data(x)\n",
    "print(ix)"
   ]
  },
  {
   "cell_type": "markdown",
   "metadata": {},
   "source": [
    "**********************************MAKE AN INJECTION SCAN -  S-CURVE OF ONE PIXEL*****************************************"
   ]
  },
  {
   "cell_type": "code",
   "execution_count": null,
   "metadata": {
    "scrolled": true
   },
   "outputs": [],
   "source": [
    "import matplotlib.pyplot as plt\n",
    "%matplotlib inline\n",
    "from scipy.optimize import curve_fit\n",
    "from scipy.special import erf\n",
    "import numpy as np\n",
    "\n",
    "def scurve(x, A, mu, sigma):\n",
    "    return 0.5 * A * erf((x - mu) / (np.sqrt(2) * sigma)) + 0.5 * A\n",
    "\n",
    "class pixel:\n",
    "    def __init__(self, col, row):\n",
    "        self.col = col\n",
    "        self.row = row\n",
    "    \n",
    "pix = pixel(col=18, row=99)\n",
    "repeat=1000\n",
    "start_dif=1\n",
    "VHLrange=30\n",
    "VL=50\n",
    "cal=20.711\n",
    "\n",
    "hits = np.zeros((VHLrange), dtype=int)\n",
    "xhits = range(1,VHLrange+1)\n",
    "\n",
    "###########################################################################\n",
    "chip.set_vl_dacunits(VL,0)\n",
    "\n",
    "for j in range(10):\n",
    "    x = chip['fifo'].get_data()\n",
    "\n",
    "for i in range(start_dif,VHLrange+1):\n",
    "    chip.set_vh_dacunits(VL+i,0)\n",
    "\n",
    "    chip.write_conf()\n",
    "    time.sleep(0.01)\n",
    "    \n",
    "    chip['inj'].set_delay(2000)\n",
    "    chip['inj'].set_width(150)\n",
    "    chip['inj'].set_repeat(repeat)\n",
    "    chip['inj'].set_en(0)\n",
    "    \n",
    "    while not chip['inj'].is_ready:\n",
    "        time.sleep(0.001)\n",
    "\n",
    "    for _ in range(10):\n",
    "        chip['inj'].is_ready\n",
    "        \n",
    "    chip[\"inj\"].start()\n",
    "    \n",
    "    x = chip['fifo'].get_data()\n",
    "\n",
    "    ix = chip.interprete_data(x)\n",
    "    \n",
    "    #print(ix)\n",
    "    \n",
    "    cnt = 0\n",
    "    for hit in ix:\n",
    "        if hit['col'] == pix.col and  hit['row'] == pix.row: #and hit['noise'] == 0:\n",
    "            cnt += 1\n",
    "            \n",
    "    hits[i-1] =  cnt\n",
    "    \n",
    "############################################################################################\n",
    "#print hits\n",
    "#print xhits\n",
    "\n",
    "max_occ = repeat\n",
    "threshold = (VHLrange)/2\n",
    "\n",
    "popt, _ = curve_fit(scurve, xhits, hits, p0=[max_occ, threshold, 50.], check_finite=False)\n",
    "#print popt\n",
    "\n",
    "newx = np.arange(start_dif,VHLrange,0.01)\n",
    "fit = scurve(np.arange(start_dif,VHLrange,0.01), *popt)\n",
    "\n",
    "fig, (ax1, ax2) = plt.subplots(1, 2, sharey=True, figsize=(15,5))\n",
    "ax1.plot(xhits, hits, 'o', label='data')\n",
    "ax1.plot(newx, fit, label='fit')\n",
    "ax1.set(xlabel='DU', ylabel='Hit count',title=('ENC of pixel (' +str(pix.col) +',' +str(pix.row) +')'))\n",
    "ax1.legend(loc='best')\n",
    "ax1.text(0.7, repeat*0.8, ('Theshold=' +str(round(popt[1],2)) +'DU, ENC=' +str(round(popt[2],2)) +'DU'), bbox=dict(facecolor='white', alpha=0.5))\n",
    "ax1.text(0.7, repeat*0.7, \"1DU=14.1mV, 1,43e/mV\", bbox=dict(facecolor='white', alpha=0.5))\n",
    "\n",
    "hite = np.array(xhits)\n",
    "hite = hite*cal\n",
    "\n",
    "popt, _ = curve_fit(scurve, hite, hits, p0=[max_occ, threshold*cal, 500.], check_finite=False)\n",
    "#print popt\n",
    "\n",
    "newxe = np.arange(start_dif*cal,(VHLrange)*cal,0.01)\n",
    "fite = scurve(np.arange(start_dif*cal,(VHLrange)*cal,0.01), *popt)\n",
    "\n",
    "ax2.plot(hite, hits, 'o', label='data')\n",
    "ax2.plot(newxe, fite, label='fit')\n",
    "ax2.set(xlabel='e-', ylabel='Hit count',title=('ENC of pixel (' +str(pix.col) +',' +str(pix.row) +')'))\n",
    "ax2.legend(loc='best')\n",
    "ax2.text(15, repeat*0.8, ('Theshold=' +str(round(popt[1],2)) +'e-, ENC=' +str(round(popt[2],2)) +'e-'), bbox=dict(facecolor='white', alpha=0.5))\n",
    "ax2.text(15, repeat*0.7, \"1DU=14.1mV, 1,43e/mV\", bbox=dict(facecolor='white', alpha=0.5))\n",
    "fig.savefig('/faust/user/kmoustakas/ENC')"
   ]
  }
 ],
 "metadata": {
  "kernelspec": {
   "display_name": "Python 2",
   "language": "python",
   "name": "python2"
  },
  "language_info": {
   "codemirror_mode": {
    "name": "ipython",
    "version": 2
   },
   "file_extension": ".py",
   "mimetype": "text/x-python",
   "name": "python",
   "nbconvert_exporter": "python",
   "pygments_lexer": "ipython2",
   "version": "2.7.14"
  }
 },
 "nbformat": 4,
 "nbformat_minor": 2
}
