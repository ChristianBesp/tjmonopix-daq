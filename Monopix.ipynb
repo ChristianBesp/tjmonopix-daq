{
 "cells": [
  {
   "cell_type": "code",
   "execution_count": 1,
   "metadata": {},
   "outputs": [
    {
     "name": "stderr",
     "output_type": "stream",
     "text": [
      "2018-02-20 20:35:47,718 - [root           ] - ERROR   'NoneType' object has no attribute 'WriteExternal'\n",
      "2018-02-20 20:35:47,750 - [root           ] - INFO    Found USB board(s): USBpix with ID 129 (FW 08)\n",
      "2018-02-20 20:35:47,753 - [root           ] - INFO    Programming FPGA: tjmonopix_mio.bit...\n",
      "2018-02-20 20:35:56,050 - [root           ] - INFO    Success!\n",
      "2018-02-20 20:35:56,498 - [root           ] - INFO    Found adapter card: General Purpose Analog Card with ID 12\n",
      "2018-02-20 20:35:56,522 - [root           ] - INFO    Initializing fifo (firmware version: 2), module basil.HL.sram_fifo, base_addr 0x18000\n",
      "2018-02-20 20:35:56,524 - [root           ] - INFO    Initializing gpio (firmware version: 0), module basil.HL.gpio, base_addr 0x10000\n",
      "2018-02-20 20:35:56,527 - [root           ] - INFO    Initializing spi (firmware version: 2), module basil.HL.spi, base_addr 0x11000\n",
      "2018-02-20 20:35:56,530 - [root           ] - INFO    Initializing inj (firmware version: 3), module basil.HL.pulse_gen, base_addr 0x10100\n",
      "2018-02-20 20:35:56,532 - [root           ] - INFO    Initializing data_rx (firmware version: 2), module tjmonopix.tjmono_data_rx, base_addr 0x10500\n"
     ]
    },
    {
     "name": "stdout",
     "output_type": "stream",
     "text": [
      "4098\n"
     ]
    }
   ],
   "source": [
    "from tjmonopix.tjmonopix import TJMonoPix\n",
    "import time\n",
    "\n",
    "chip = TJMonoPix()\n",
    "chip['CONF']['DEF_CONF_N'] = 0\n",
    "chip['CONF'].write()\n",
    "chip.init()\n",
    "chip.power_on()\n",
    "#chip.set_inj_amplitude()\n",
    "\n",
    "chip['CONF']['RESET_BCID'] = 1\n",
    "chip['CONF']['RESET'] = 1\n",
    "chip['CONF'].write()\n",
    "\n",
    "chip['CONF']['EN_BX_CLK'] = 1\n",
    "chip['CONF']['EN_OUT_CLK'] = 1\n",
    "chip['CONF'].write()\n",
    " \n",
    "chip['CONF']['RESET_BCID'] = 0\n",
    "chip['CONF']['RESET'] = 0\n",
    "chip['CONF'].write()\n",
    "\n",
    "chip.default_conf()\n",
    "chip.set_icasn_low()\n",
    "\n",
    "chip['CONF_SR']['EN_COMP'].setall(False)\n",
    "chip['CONF_SR']['EN_PMOS'].setall(True)\n",
    "chip['CONF_SR']['EN_PMOS_NOSF'].setall(False)\n",
    "chip['CONF_SR']['EN_TEST_PATTERN'].setall(False)\n",
    "\n",
    "chip['CONF_SR']['EN_PMOS'][2] = 0\n",
    "chip['CONF_SR']['EN_PMOS'][29] = 0\n",
    "\n",
    "chip['CONF_SR']['SET_IRESET'].setall(False)\n",
    "chip['CONF_SR']['SET_IRESET'][78:49] = True\n",
    "\n",
    "chip['CONF_SR']['SET_ITHR'].setall(False)\n",
    "chip['CONF_SR']['SET_ITHR'][72:55] = True\n",
    "\n",
    "chip.write_conf()\n",
    "\n",
    "chip['CONF']['DEF_CONF_N'] = 1\n",
    "chip['CONF'].write()"
   ]
  },
  {
   "cell_type": "code",
   "execution_count": 464,
   "metadata": {},
   "outputs": [
    {
     "data": {
      "text/plain": [
       "{'VDDA [V]': 1.7825418966900703,\n",
       " 'VDDA [mA]': 65.78576947490312,\n",
       " 'VDDA_DAC [V]': 1.7971312196819085,\n",
       " 'VDDA_DAC [mA]': 3.513856326790666,\n",
       " 'VDDD [V]': 1.799880103792415,\n",
       " 'VDDD [mA]': 0.501475573372531,\n",
       " 'VDDP [V]': 1.78729134,\n",
       " 'VDDP [mA]': 190.798314496717}"
      ]
     },
     "execution_count": 464,
     "metadata": {},
     "output_type": "execute_result"
    }
   ],
   "source": [
    "chip.get_power_status()"
   ]
  },
  {
   "cell_type": "code",
   "execution_count": 2,
   "metadata": {},
   "outputs": [],
   "source": [
    "chip['data_rx'].set_en(True)"
   ]
  },
  {
   "cell_type": "code",
   "execution_count": 473,
   "metadata": {},
   "outputs": [],
   "source": [
    "chip['CONF_SR']['SET_ICASN'].setall(False)\n",
    "chip['CONF_SR']['SET_ICASN'][70:59] = True\n",
    "\n",
    "chip['CONF_SR']['SET_IRESET'].setall(False)\n",
    "chip['CONF_SR']['SET_IRESET'][71:57] = True\n",
    "\n",
    "chip['CONF_SR']['SET_ITHR'].setall(False)\n",
    "chip['CONF_SR']['SET_ITHR'][67:60] = True\n",
    "\n",
    "chip.write_conf()"
   ]
  },
  {
   "cell_type": "code",
   "execution_count": 457,
   "metadata": {},
   "outputs": [],
   "source": [
    "chip['CONF_SR']['EN_COMP'].setall(False)\n",
    "chip['CONF_SR']['EN_PMOS'].setall(True)\n",
    "chip['CONF_SR']['EN_PMOS_NOSF'].setall(False)\n",
    "chip['CONF_SR']['EN_TEST_PATTERN'].setall(False)\n",
    "\n",
    "#chip['CONF_SR']['EN_PMOS'][2] = 0\n",
    "#chip['CONF_SR']['EN_PMOS'][29] = 0\n",
    "chip['CONF_SR']['EN_PMOS'][9] = 1\n",
    "chip.write_conf()"
   ]
  },
  {
   "cell_type": "code",
   "execution_count": 187,
   "metadata": {},
   "outputs": [],
   "source": [
    "chip['CONF_SR']['MASKD'].setall(False)\n",
    "chip['CONF_SR']['MASKH'].setall(False)\n",
    "chip['CONF_SR']['MASKV'].setall(False)\n",
    "\n",
    "chip['CONF_SR']['MASKV'][130] = True\n",
    "\n",
    "chip.write_conf()"
   ]
  },
  {
   "cell_type": "code",
   "execution_count": 39,
   "metadata": {},
   "outputs": [],
   "source": [
    "chip['CONF_SR']['MASKD'].setall(True)\n",
    "chip['CONF_SR']['MASKH'].setall(True)\n",
    "chip['CONF_SR']['MASKV'].setall(True)\n",
    "\n",
    "chip.write_conf()"
   ]
  },
  {
   "cell_type": "code",
   "execution_count": 397,
   "metadata": {},
   "outputs": [
    {
     "name": "stdout",
     "output_type": "stream",
     "text": [
      "[]\n"
     ]
    }
   ],
   "source": [
    "x = chip['fifo'].get_data()\n",
    "#for i in range(8): print hex(x[i]), bin(x[i])\n",
    "ix = chip.interprete_data(x)\n",
    "#ix = chip.interprete_raw_data(x)\n",
    "print(ix)"
   ]
  },
  {
   "cell_type": "code",
   "execution_count": 416,
   "metadata": {},
   "outputs": [],
   "source": [
    "chip['CONF_SR']['COL_PULSE_SEL'].setall(False)\n",
    "chip['CONF_SR']['COL_PULSE_SEL'][130] = 1\n",
    "\n",
    "chip['CONF_SR']['INJ_ROW'].setall(False)\n",
    "chip['CONF_SR']['INJ_ROW'][100] = 1\n",
    "\n",
    "\n",
    "chip['CONF_SR']['SET_VL'].setall(False)\n",
    "chip['CONF_SR']['SET_VL'][44] = 1\n",
    "chip['CONF_SR']['SET_VH'].setall(False)\n",
    "chip['CONF_SR']['SET_VH'][79] = 1\n",
    "\n",
    "chip.write_conf()"
   ]
  },
  {
   "cell_type": "code",
   "execution_count": 494,
   "metadata": {},
   "outputs": [
    {
     "name": "stdout",
     "output_type": "stream",
     "text": [
      "[(18, 100, 31, 31, 0)]\n",
      "[(9, 100, 31, 31, 0)]\n"
     ]
    }
   ],
   "source": [
    "chip['inj'].set_delay(200)\n",
    "chip['inj'].set_width(4)\n",
    "chip['inj'].set_repeat(1)\n",
    "chip['inj'].set_en(0)\n",
    "chip[\"inj\"].start()\n",
    "\n",
    "while not chip['inj'].is_ready:\n",
    "    time.sleep(0.001)\n",
    "\n",
    "for _ in range(10):\n",
    "    chip['inj'].is_ready\n",
    "\n",
    "chip[\"inj\"].start()\n",
    "\n",
    "while not chip['inj'].is_ready:\n",
    "    time.sleep(0.001)\n",
    "\n",
    "for _ in range(10):\n",
    "    chip['inj'].is_ready\n",
    "\n",
    "x = chip['fifo'].get_data()\n",
    "\n",
    "ix = chip.interprete_data(x)\n",
    "print(ix)\n",
    "ix = chip.interprete_raw_data(x)\n",
    "print(ix)"
   ]
  },
  {
   "cell_type": "code",
   "execution_count": 265,
   "metadata": {},
   "outputs": [],
   "source": [
    "exit"
   ]
  }
 ],
 "metadata": {
  "kernelspec": {
   "display_name": "Python 2",
   "language": "python",
   "name": "python2"
  },
  "language_info": {
   "codemirror_mode": {
    "name": "ipython",
    "version": 2
   },
   "file_extension": ".py",
   "mimetype": "text/x-python",
   "name": "python",
   "nbconvert_exporter": "python",
   "pygments_lexer": "ipython2",
   "version": "2.7.14"
  }
 },
 "nbformat": 4,
 "nbformat_minor": 2
}
