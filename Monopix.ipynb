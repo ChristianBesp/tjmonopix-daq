{
 "cells": [
  {
   "cell_type": "markdown",
   "metadata": {},
   "source": [
    "**************************************************INITIALIZATION*********************************************************"
   ]
  },
  {
   "cell_type": "code",
   "execution_count": 1,
   "metadata": {
    "scrolled": true
   },
   "outputs": [
    {
     "name": "stderr",
     "output_type": "stream",
     "text": [
      "2018-03-14 17:16:01,947 - [root           ] - ERROR   'NoneType' object has no attribute 'WriteExternal'\n",
      "2018-03-14 17:16:01,974 - [root           ] - INFO    Found USB board(s): USBpix with ID 207 (FW 15)\n",
      "2018-03-14 17:16:01,978 - [root           ] - INFO    Programming FPGA: tjmonopix_mio.bit...\n",
      "2018-03-14 17:16:09,921 - [root           ] - INFO    Success!\n",
      "2018-03-14 17:16:10,351 - [root           ] - INFO    Found adapter card: General Purpose Analog Card with ID 1\n",
      "2018-03-14 17:16:10,376 - [root           ] - INFO    Initializing fifo (firmware version: 2), module basil.HL.sram_fifo, base_addr 0x18000\n",
      "2018-03-14 17:16:10,379 - [root           ] - INFO    Initializing gpio (firmware version: 0), module basil.HL.gpio, base_addr 0x10000\n",
      "2018-03-14 17:16:10,381 - [root           ] - INFO    Initializing spi (firmware version: 2), module basil.HL.spi, base_addr 0x11000\n",
      "2018-03-14 17:16:10,384 - [root           ] - INFO    Initializing inj (firmware version: 3), module basil.HL.pulse_gen, base_addr 0x10100\n",
      "2018-03-14 17:16:10,387 - [root           ] - INFO    Initializing data_rx (firmware version: 2), module tjmonopix.tjmono_data_rx, base_addr 0x10500\n"
     ]
    },
    {
     "name": "stdout",
     "output_type": "stream",
     "text": [
      "4098\n"
     ]
    }
   ],
   "source": [
    "from tjmonopix.tjmonopix import TJMonoPix\n",
    "from tjmonopix.analysis.plotting import plotting\n",
    "import time\n",
    "\n",
    "plot=plotting()\n",
    "chip = TJMonoPix()\n",
    "chip['CONF']['DEF_CONF_N'] = 0\n",
    "chip['CONF']['AB_SELECT'] = 1\n",
    "chip['CONF'].write()\n",
    "chip.init()\n",
    "\n",
    "chip['data_rx'].CONF_START_FREEZE = 15 #default 3\n",
    "chip['data_rx'].CONF_STOP_FREEZE = 100 #default 40\n",
    "#chip['data_rx'].CONF_STOP_FREEZE = 250 #default 40\n",
    "chip['data_rx'].CONF_START_READ = 35 #default 6\n",
    "chip['data_rx'].CONF_STOP_READ = 37 #default 7\n",
    "chip['data_rx'].CONF_STOP = 105 #default 45\n",
    "#chip['data_rx'].CONF_STOP = 255 #default 45\n",
    "\n",
    "chip.power_on()\n",
    "\n",
    "chip['CONF']['RESET_BCID'] = 1\n",
    "chip['CONF']['RESET'] = 1\n",
    "chip['CONF'].write()\n",
    "\n",
    "chip['CONF']['EN_BX_CLK'] = 1\n",
    "chip['CONF']['EN_OUT_CLK'] = 1\n",
    "chip['CONF'].write()\n",
    " \n",
    "chip['CONF']['RESET_BCID'] = 0\n",
    "chip['CONF']['RESET'] = 0\n",
    "chip['CONF'].write()\n",
    "\n",
    "chip.default_conf()\n",
    "\n",
    "#-------------------------------------------------#\n",
    "chip.set_icasn_dacunits(0,0)\n",
    "chip.set_vreset_dacunits(35,0)\n",
    "chip.set_ireset_dacunits(2,1,0)\n",
    "chip.set_ithr_dacunits(5,0)\n",
    "chip.set_idb_dacunits(50,0)\n",
    "\n",
    "chip['CONF_SR']['EN_HV'].setall(False)\n",
    "chip['CONF_SR']['EN_COMP'].setall(False)\n",
    "chip['CONF_SR']['EN_PMOS'].setall(False)\n",
    "chip['CONF_SR']['EN_PMOS_NOSF'].setall(False)\n",
    "chip['CONF_SR']['EN_TEST_PATTERN'].setall(False)\n",
    "\n",
    "chip['CONF_SR']['MASKD'].setall(False)\n",
    "chip['CONF_SR']['MASKH'].setall(False)\n",
    "chip['CONF_SR']['MASKV'].setall(False)\n",
    "\n",
    "chip.write_conf()\n",
    "\n",
    "chip['CONF']['DEF_CONF_N'] = 1\n",
    "chip['CONF'].write()"
   ]
  },
  {
   "cell_type": "markdown",
   "metadata": {},
   "source": [
    "****************************************************POWER_STATUS*********************************************************"
   ]
  },
  {
   "cell_type": "code",
   "execution_count": 3,
   "metadata": {
    "scrolled": true
   },
   "outputs": [
    {
     "data": {
      "text/plain": [
       "{'VDDA [V]': 1.7935596696606788,\n",
       " 'VDDA [mA]': 60.42016311400574,\n",
       " 'VDDA_DAC [V]': 1.798314513944223,\n",
       " 'VDDA_DAC [mA]': 3.53162464064632,\n",
       " 'VDDD [V]': 1.8007586092184371,\n",
       " 'VDDD [mA]': -3.3934469967968035e-08,\n",
       " 'VDDP [V]': 1.7947520410410414,\n",
       " 'VDDP [mA]': 153.80046315154897}"
      ]
     },
     "execution_count": 3,
     "metadata": {},
     "output_type": "execute_result"
    }
   ],
   "source": [
    "#chip['BiasSF'].set_current(100, unit='uA') # SET THE SOURCE FOLLOWER READOUT CURRENT\n",
    "chip.get_power_status()"
   ]
  },
  {
   "cell_type": "markdown",
   "metadata": {},
   "source": [
    "****************************ENABLE_COLUMS, SET MASKS, SELECT WHICH COLUMN AND ROW TO INJECT******************************"
   ]
  },
  {
   "cell_type": "code",
   "execution_count": 20,
   "metadata": {},
   "outputs": [],
   "source": [
    "# SELECT WHICH DOUBLE COLUMNS TO ENABLE\n",
    "chip['CONF_SR']['EN_PMOS_NOSF'].setall(False)\n",
    "chip['CONF_SR']['EN_PMOS'].setall(False)\n",
    "chip['CONF_SR']['EN_COMP'].setall(False)\n",
    "chip['CONF_SR']['EN_HV'].setall(False)\n",
    "chip['CONF_SR']['EN_OUT'].setall(False) #ENABLES OR DISABLES THE NORMAL OUTPUT PADS, ACTIVE LOW\n",
    "chip['CONF_SR']['nEN_OUT'].setall(True) #ENABLES OR DISABLES THE COMPLEMENTARY OUTPUT PADS, ACTIVE LOW\n",
    "chip['CONF_SR']['EN_HITOR_OUT'].setall(True) #ENABLES OR DISABLES THE NORMAL HITOR PADS, HITOR0-3 =  1-4 flavor, ACTIVE LOW\n",
    "chip['CONF_SR']['nEN_HITOR_OUT'].setall(True) #ENABLES OR DISABLES THE COMPLEMENTARY HITOR PADS, ACTIVE LOW\n",
    "\n",
    "#chip['CONF_SR']['EN_PMOS'][9] = 1\n",
    "chip['CONF_SR']['EN_PMOS'].setall(True)\n",
    "#chip['CONF_SR']['EN_HITOR_OUT'][1] = 0\n",
    "\n",
    "# SELECT WHICH PHYSICAL COLUMNS, ROWS, DIAGONALS TO MASK\n",
    "# TO MASK ONE PIXEL, MASKV, MASKH and MASKD OF THIS PIXEL SHOULD BE 0 (FALSE)\n",
    "# THE MASKD NUMBER OF THE PIXEL WE WANT TO MASK (or UNMASK), IS GIVEN BY: MASKD = PHYSCOL- PHYSROW\n",
    "# IF PHYSCOL-PHYSROW<0, then MASKD = 448+PHYSCOL-PHYSROW\n",
    "chip['CONF_SR']['MASKD'].setall(True)\n",
    "chip['CONF_SR']['MASKH'].setall(True)\n",
    "chip['CONF_SR']['MASKV'].setall(True)\n",
    "\n",
    "# TO USE THE MASK FUNCTION YOU MUST INPUT THE FLAVOR, COLUMN AND ROW\n",
    "# THE FLAVOR NUMERS IS: 0 FOR PMOS_NOSF, 1 FOR PMOS, 2 FOR COMP, 3 FOR HV\n",
    "chip.mask(1,5,179)\n",
    "chip.mask(1,59,95)\n",
    "chip.mask(1,42,136)\n",
    "chip.mask(1,60,137)\n",
    "chip.mask(1,86,126)\n",
    "\n",
    "chip.mask(1,102,139)\n",
    "chip.mask(1,66,39)\n",
    "chip.mask(1,103,154)\n",
    "chip.mask(1,102,149)\n",
    "chip.mask(1,38,144)\n",
    "chip.mask(1,45,131)\n",
    "chip.mask(1,101,131)\n",
    "chip.mask(1,106,119)\n",
    "chip.mask(1,0,101)\n",
    "chip.mask(1,11,117)\n",
    "chip.mask(1,81,51)\n",
    "chip.mask(1,39,93)\n",
    "chip.mask(1,80,144)\n",
    "chip.mask(1,29,103)\n",
    "chip.mask(1,66,129)\n",
    "chip.mask(1,35,157)\n",
    "chip.mask(1,13,16)\n",
    "chip.mask(1,23,45)\n",
    "chip.mask(1,48,157)\n",
    "chip.mask(1,26,60)\n",
    "chip.mask(1,102,134)\n",
    "chip.mask(1,87,184)\n",
    "chip.mask(1,108,1)\n",
    "chip.mask(1,45,149)\n",
    "chip.mask(1,24,96)\n",
    "chip.mask(1,28,98)\n",
    "chip.mask(1,42,210)\n",
    "chip.mask(1,108,196)\n",
    "chip.mask(1,71,128)\n",
    "\n",
    "# chip.mask(3,10,30)\n",
    "# chip.mask(3,9,131)\n",
    "# chip.mask(3,72,70)\n",
    "# chip.mask(3,36,46)\n",
    "# chip.mask(3,80,44)\n",
    "# chip.mask(3,80,55)\n",
    "# chip.mask(3,21,119)\n",
    "# chip.mask(3,104,109)\n",
    "# chip.mask(3,6,119)\n",
    "# chip.mask(3,87,166)\n",
    "# chip.mask(3,82,178)\n",
    "# chip.mask(3,35,172)\n",
    "# chip.mask(3,56,118)\n",
    "# chip.mask(3,42,67)\n",
    "# chip.mask(3,110,48)\n",
    "# chip.mask(3,16,178)\n",
    "# chip.mask(3,25,94)\n",
    "# chip.mask(3,46,109)\n",
    "# chip.mask(3,47,59)\n",
    "# chip.mask(3,48,194)\n",
    "# chip.mask(3,93,191)\n",
    "# chip.mask(3,106,202)\n",
    "# chip.mask(3,61,181)\n",
    "# chip.mask(3,83,146)\n",
    "# chip.mask(3,42,7)\n",
    "\n",
    "\n",
    "#chip['CONF_SR']['MASKD'][31] = True\n",
    "#chip['CONF_SR']['MASKH'][99] = False\n",
    "\n",
    "# SELECT WHICH PHYSICAL COLUMS TO INJECT\n",
    "# INJ_IN_MON_L AND INJ_IN_MON_L SELECT THE LEFT AND RIGHT SPECIAL ANALOG MONITORING PIXELS\n",
    "chip['CONF_SR']['COL_PULSE_SEL'].setall(False)\n",
    "#chip['CONF_SR']['COL_PULSE_SEL'][130]=True\n",
    "\n",
    "chip['CONF_SR']['INJ_IN_MON_L'] = 1 # ENABLE INJECTION FOR THE ANALOG MONITORING PIXELS LEFT SIDE\n",
    "chip['CONF_SR']['INJ_IN_MON_R'] = 1 # ENABLE INJECTION FOR THE ANALOG MONITORING PIXELS RIGHT SIDE\n",
    "\n",
    "# SELECT WHICH PHYSICAL ROWS TO INJECT\n",
    "# THE SPEXIAL PIXELS OUTA_MON3 to OUTA_MON0 CORRESPONT TO ROWS 223 to 220 FOR INJECTION\n",
    "chip['CONF_SR']['INJ_ROW'].setall(False)\n",
    "chip['CONF_SR']['INJ_ROW'][223:220] = True # FOR THE ANALOG MONITORING TOP PIXEL\n",
    "\n",
    "# SELECT PHYSICAL COLUMNS AND ROWS FOR INJECTION WITH FUNCTION\n",
    "chip.enable_injection(1,18,99)\n",
    "\n",
    "# SELECT PHYSICAL COLUMN(S) FOR HITOR OUTPUT\n",
    "# nMASKH (SO SETTING MASKH TO FALSE) ENABLES HITOR FOR THE SPECIFIC ROW\n",
    "chip['CONF_SR']['DIG_MON_SEL'].setall(False)\n",
    "#chip.enable_column_hitor(1,18)\n",
    "\n",
    "chip.write_conf()"
   ]
  },
  {
   "cell_type": "markdown",
   "metadata": {},
   "source": [
    "************CONFIGURE THE FRONT END CURRENT AND VOLTAGE BIASES, CONFIGURE THE HEIGHT OF THE INJECTION PULSE**************"
   ]
  },
  {
   "cell_type": "code",
   "execution_count": 5,
   "metadata": {},
   "outputs": [
    {
     "name": "stdout",
     "output_type": "stream",
     "text": [
      "vl = 1.00862204724V\n",
      "vh = 1.50468503937V\n",
      "vreset = 1.05106299213V\n",
      "icasn = 4.375nA\n",
      "ireset = 0.1025390625nA, high leakage mode\n",
      "ithr = 0.8203125nA\n",
      "idb = 280.0nA\n",
      "ibias = 557.8125nA\n"
     ]
    }
   ],
   "source": [
    "## SET THE INJECTION PULSE AMPLITUDE\n",
    "## 128-bit DAC (7-bit binary equivalent)\n",
    "## SET THE VOLTAGES IN ONE HOT ENCODING, ONLY ONE BIT ACTIVE AT A TIME.\n",
    "## V = (127/1.8)*#BIT\n",
    "# The default values are VL=44, VH=79, VH-VL=35\n",
    "# VDAC LSB=14.17mV, Cinj=230aF, 1.43e-/mV, ~710e-\n",
    "chip.set_vl_dacunits(44,1)\n",
    "chip.set_vh_dacunits(79,1)\n",
    "\n",
    "####### CONFIGURE THE FRONT END ######\n",
    "\n",
    "# SET VRESET_P, THIS IS THE BASELINE OF THE FRONT END INPUT, ONE HOT ENCODING\n",
    "chip.set_vreset_dacunits(35,1) #1V\n",
    "\n",
    "## 128-bit DAC (7-bit binary equivalent)\n",
    "## SET THE CURRENTS USING THERMOMETER ENCODING, I = #BITS_ACTIVE*140nA*SCALING, SCALING IS DIFFERENT FOR EACH CURRENT\n",
    "## SCALING: IBIAS=10, IDB=16, ITHR=0.125, ICASN=4, IRESET=0.03125\n",
    "## ACTIVE BITS SHOULD BE SET STARTING FROM THE MIDDLE e.g. for 15 active bits, (128-15)/2=56,5 so 56zeros,15ones,57zeros\n",
    "## Thus, Ix[71:57] = True\n",
    "\n",
    "# SET ICASN, THIS CURRENT CONTROLS THE OUTPUT BASELINE, BE CAREFUL NOT TO SET IT TO HIGH\n",
    "# ALWAYS MONITOR THE POWER AFTER SETTING ICASN. IF VDDD IS SEVERAL mA, REDUCE IT UNTIL IT RETURNS TO 0\n",
    "# ICASN MAINLY CONTROLS THE THRESHOLD\n",
    "chip.set_icasn_dacunits(0,1) #4.375nA # approx 1.084V at -3V backbias, 600mV at 0V backbias\n",
    "\n",
    "# SET IRESET, THIS CURRENT CONTROLS THE RESET RATE OF THE FRONT END INPUT (ALSO THE THRESHOLD)\n",
    "chip.set_ireset_dacunits(2,1,1) #270pA, HIGH LEAKAGE MODE, NORMAL SCALING, 0 = LOW LEAKAGE MODE, SCALING*0.01\n",
    "\n",
    "# SET ITHR, THIS CURRENT CONTROLS THE RESET RATE OF THE OUTPUT (AND THE THRESHOLD)\n",
    "chip.set_ithr_dacunits(5,1) #680pA\n",
    "\n",
    "# SET ITHR, THIS CURRENT CONTROLS THE BIASING OF THE DISCRIMINATOR (AND THE THRESHOLD)\n",
    "chip.set_idb_dacunits(15,1) #500nA\n",
    "\n",
    "# SET IBIAS, THIS CURRENT IS THE DC CURRENT OF THE MAIN BRANCH OF THE FRONT END THAT PROVIDES AMPLIFICATION\n",
    "# IT CONTROLS MAINLY THE RISE TIME\n",
    "chip.set_ibias_dacunits(50,1) #500nA\n",
    "\n",
    "############ ENABLE THE DAC CURRENT MONITORING ###########\n",
    "# chip['CONF_SR']['SWCNTL_DACMONI'] = 0\n",
    "\n",
    "########## SET THE BIAS CURRENTS OF THE TWO STAGE SOURCE FOLLOWER THAT BUFFERS THE ANALOG MONITORING VOLTAGES #########\n",
    "# CONTROLS THE RESPONSE TIME AND THE LEVEL SHIFT OF THE BUFFER\n",
    "# chip['CONF_SR']['SET_IBUFN_L'] = 0b1001\n",
    "# chip['CONF_SR']['SET_IBUFP_L'] = 0b0101\n",
    "\n",
    "chip.write_conf()"
   ]
  },
  {
   "cell_type": "markdown",
   "metadata": {},
   "source": [
    "******************INITIALIZE COMMUNICATION, RECEIVE DATA (CHECK IF DATA ARE SENT WITH EACH EXCECUTION)*******************"
   ]
  },
  {
   "cell_type": "code",
   "execution_count": 37,
   "metadata": {},
   "outputs": [
    {
     "name": "stdout",
     "output_type": "stream",
     "text": [
      "0\n",
      "[]\n"
     ]
    }
   ],
   "source": [
    "# chip['data_rx'].CONF_START_FREEZE = 15 #default 3\n",
    "# chip['data_rx'].CONF_STOP_FREEZE = 100 #default 40\n",
    "# chip['data_rx'].CONF_START_READ = 35 #default 6\n",
    "# chip['data_rx'].CONF_STOP_READ = 37 #default 7\n",
    "# chip['data_rx'].CONF_STOP = 105 #default 45\n",
    "\n",
    "# chip['data_rx'].CONF_START_FREEZE = 5 #default 3\n",
    "# chip['data_rx'].CONF_STOP_FREEZE = 45 #default 40\n",
    "# chip['data_rx'].CONF_START_READ = 10 #default 6\n",
    "# chip['data_rx'].CONF_STOP_READ = 12 #default 7\n",
    "# chip['data_rx'].CONF_STOP = 50 #default 45\n",
    "\n",
    "#chip['data_rx'].reset()\n",
    "#chip['CONF']['AB_SELECT'] = 1\n",
    "#chip['CONF'].write()\n",
    "\n",
    "chip['data_rx'].set_en(True)\n",
    "\n",
    "x = chip['fifo'].get_data()\n",
    "\n",
    "ix = chip.interprete_data(x)\n",
    "print(len(ix))\n",
    "print(ix)"
   ]
  },
  {
   "cell_type": "markdown",
   "metadata": {},
   "source": [
    "****************************SET THE INJECTION PULSE PARAMETERS, INJECT x times and get the data**************************"
   ]
  },
  {
   "cell_type": "code",
   "execution_count": null,
   "metadata": {},
   "outputs": [],
   "source": [
    "chip['CONF_SR']['COL_PULSE_SEL'].setall(False)\n",
    "chip['CONF_SR']['INJ_ROW'].setall(False)\n",
    "chip['CONF_SR']['INJ_ROW'][223:220]=True\n",
    "for row in range(80,100):\n",
    "    chip.enable_injection(1,18,row)\n",
    "\n",
    "chip.write_conf()"
   ]
  },
  {
   "cell_type": "code",
   "execution_count": 47,
   "metadata": {
    "scrolled": true
   },
   "outputs": [
    {
     "name": "stdout",
     "output_type": "stream",
     "text": [
      "0\n",
      "0\n"
     ]
    }
   ],
   "source": [
    "#chip['inj'].reset()\n",
    "\n",
    "repeat=500\n",
    "sleeptime=repeat*0.00005\n",
    "delay=1500\n",
    "width=250\n",
    "noise_en=0\n",
    "col=18\n",
    "row=99\n",
    "\n",
    "chip['inj'].set_delay(delay)\n",
    "chip['inj'].set_width(width)\n",
    "chip['inj'].set_repeat(repeat)\n",
    "chip['inj'].set_en(0)\n",
    "\n",
    "while not chip['inj'].is_ready:\n",
    "    time.sleep(0.001)\n",
    "\n",
    "for _ in range(10):\n",
    "    chip['inj'].is_ready\n",
    "\n",
    "chip[\"inj\"].start()\n",
    "time.sleep(sleeptime)\n",
    "\n",
    "x = chip['fifo'].get_data()\n",
    "ix = chip.interprete_data(x)\n",
    "\n",
    "print(len(ix))\n",
    "#print(ix)\n",
    "\n",
    "cnt2=0\n",
    "for hit in ix:\n",
    "    if hit['col'] == col and  hit['row'] == row:\n",
    "        if noise_en == 1:\n",
    "            if hit['noise'] == 0: \n",
    "                cnt2 += 1\n",
    "        else:\n",
    "            cnt2 += 1\n",
    "print cnt2"
   ]
  },
  {
   "cell_type": "markdown",
   "metadata": {},
   "source": [
    "******************************************INJECTION SCANS -  S-CURVE*****************************************************"
   ]
  },
  {
   "cell_type": "code",
   "execution_count": 17,
   "metadata": {
    "scrolled": false
   },
   "outputs": [
    {
     "name": "stdout",
     "output_type": "stream",
     "text": [
      "[[  0   0   0   0   0   0   0   0   0   0   0   0   0   0  27 307 489 500\n",
      "  500 500 500 500 500 500 500 500 500 500 500 500 500 500 500 500 500 500\n",
      "  500 500 500 500 500]]\n"
     ]
    },
    {
     "data": {
      "image/png": "[encoded data removed]",
      "text/plain": [
       "<matplotlib.figure.Figure at 0x7fefaecaedd0>"
      ]
     },
     "metadata": {},
     "output_type": "display_data"
    }
   ],
   "source": [
    "%matplotlib inline\n",
    "import numpy as np\n",
    "\n",
    "flavor=1\n",
    "col=18\n",
    "startrow=99\n",
    "rownumber=1\n",
    "VL=40\n",
    "VHLrange=40\n",
    "start_dif=0\n",
    "repeat=500\n",
    "delay=1500\n",
    "width=350\n",
    "noise_en=0\n",
    "analog_en=1\n",
    "sleeptime=repeat*0.00005\n",
    "DUtoe=20.18\n",
    "#DUtoe=23\n",
    "\n",
    "xhits = range(start_dif,VHLrange+start_dif+1)\n",
    "\n",
    "hits =chip.inj_scan_row(flavor, col, startrow, rownumber, VL, VHLrange, start_dif, delay, width, repeat, noise_en, analog_en, sleeptime)\n",
    "print hits\n",
    "plot.plot_scurve(col, startrow, xhits, hits[0], repeat, VHLrange/2+start_dif, 0.5, 10.0, DUtoe)"
   ]
  },
  {
   "cell_type": "code",
   "execution_count": null,
   "metadata": {
    "scrolled": true
   },
   "outputs": [],
   "source": [
    "import numpy as np\n",
    "\n",
    "flavor=1\n",
    "partname='bot'\n",
    "col_high = 111\n",
    "col_low = 0\n",
    "row_high = 111\n",
    "row_low = 0\n",
    "rowstep=20\n",
    "\n",
    "VL=40\n",
    "VHLrange=40\n",
    "start_dif=0\n",
    "delay=1500\n",
    "width=350\n",
    "repeat=500\n",
    "noise_en=0\n",
    "analog_en=1\n",
    "sleeptime=repeat*0.00005\n",
    "\n",
    "\n",
    "col_no=col_high-col_low+1\n",
    "row_no=row_high-row_low+1\n",
    "\n",
    "pix_no = (col_no)*(row_no)\n",
    "\n",
    "scurve = np.zeros((pix_no,VHLrange+1), dtype=int)\n",
    "#xhits = range(start_dif,VHLrange+start_dif+1)\n",
    "\n",
    "i = 0\n",
    "for col in range(col_low,col_high+1):\n",
    "    for row in range(row_low,row_high+1-rowstep,rowstep):\n",
    "        #print 'row=%d' %row\n",
    "        hits = chip.inj_scan_row(flavor, col, row, rowstep, VL, VHLrange, start_dif, delay, width, repeat, noise_en, analog_en, sleeptime)\n",
    "        print 'i=%d' %i\n",
    "        #print hits\n",
    "        scurve[i:i+20] = hits\n",
    "        i += 20\n",
    "        #print 'i+=%d' %i\n",
    "        time.sleep(0.01)\n",
    "        \n",
    "    #print 'row=%d' %(row+rowstep)\n",
    "    print 'i=%d' %i        \n",
    "    hits = chip.inj_scan_row(flavor, col, row+rowstep, (row_high%(row+rowstep))+1, VL, VHLrange, start_dif, delay, width, repeat, noise_en, analog_en, sleeptime)\n",
    "    #print hits\n",
    "    scurve[i:i+((row_high%(row+rowstep))+1)] = hits\n",
    "    i += (row_high%(row+rowstep))+1\n",
    "    #print (row_high%(row+rowstep))+1\n",
    "    print 'i=%d' %i\n",
    "    time.sleep(0.01)\n",
    "\n",
    "#print scurve\n",
    "np.save('scurvedata'+partname+'.npy',scurve)"
   ]
  }
 ],
 "metadata": {
  "kernelspec": {
   "display_name": "Python 2",
   "language": "python",
   "name": "python2"
  },
  "language_info": {
   "codemirror_mode": {
    "name": "ipython",
    "version": 2
   },
   "file_extension": ".py",
   "mimetype": "text/x-python",
   "name": "python",
   "nbconvert_exporter": "python",
   "pygments_lexer": "ipython2",
   "version": "2.7.14"
  }
 },
 "nbformat": 4,
 "nbformat_minor": 2
}
