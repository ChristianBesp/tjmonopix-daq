{
 "cells": [
  {
   "cell_type": "code",
   "execution_count": null,
   "metadata": {
    "scrolled": false
   },
   "outputs": [],
   "source": [
    "%reset -f\n",
    "%matplotlib inline\n",
    "from tjmonopix.analysis.plotting import plotting\n",
    "plot=plotting()\n",
    "\n",
    "start_dif=0\n",
    "VHLrange=40\n",
    "max_occ = 500\n",
    "DUtoe=20.18\n",
    "threshold=350\n",
    "sigma=14\n",
    "folder='IC_PMOS_PW3_PS6'\n",
    "\n",
    "plot.plot_scurve_histogram(max_occ+10, DUtoe, folder, 50, 16, 6)"
   ]
  },
  {
   "cell_type": "code",
   "execution_count": null,
   "metadata": {},
   "outputs": [],
   "source": [
    "plot.fit_scurvedata(VHLrange, start_dif, max_occ, DUtoe, threshold, sigma, folder)"
   ]
  },
  {
   "cell_type": "code",
   "execution_count": null,
   "metadata": {
    "scrolled": true
   },
   "outputs": [],
   "source": [
    "plot.plot_thr_dispersion(folder)\n",
    "plot.plot_enc_dispersion(folder)"
   ]
  },
  {
   "cell_type": "code",
   "execution_count": null,
   "metadata": {},
   "outputs": [],
   "source": [
    "# %reset -f\n",
    "# from tjmonopix.analysis.plotting import plotting\n",
    "# plot=plotting()\n",
    "# folder='HV_PW3_PS6_HV1_6'\n",
    "plot.dplot(folder, 'threshold')\n",
    "plot.dplot(folder, 'enc')"
   ]
  },
  {
   "cell_type": "code",
   "execution_count": null,
   "metadata": {
    "scrolled": true
   },
   "outputs": [],
   "source": [
    "import numpy as np\n",
    "enctop = np.load('./'+folder+'/enctop.npy')\n",
    "encbot = np.load('./'+folder+'/enctop.npy')\n",
    "#ee=np.where((enc > 1)&(enc < 3))[0]\n",
    "maskedbot=np.where(encbot==0)[0]\n",
    "maskedtop=np.where(encbot==0)[0]\n",
    "#print ee\n",
    "masked = len(maskedbot)+len(maskedtop)\n",
    "print masked"
   ]
  },
  {
   "cell_type": "code",
   "execution_count": null,
   "metadata": {},
   "outputs": [],
   "source": [
    "import matplotlib.pyplot as plt\n",
    "from scipy.optimize import curve_fit\n",
    "from scipy.special import erf\n",
    "\n",
    "xhits = range(start_dif,VHLrange+start_dif+1)\n",
    "\n",
    "scurves = np.load('./'+folder+'/scurvedatatop.npy')\n",
    "scurves[:,0]=0\n",
    "scurves[:,1]=0\n",
    "pix=11063\n",
    "print scurves[pix,:]\n",
    "popt, _ = curve_fit(plot.scurve, xhits, scurves[pix,:], p0=[max_occ, threshold, sigma], check_finite=False)\n",
    "print popt\n",
    "pt=plt.plot(scurves[pix,:], 'ro')"
   ]
  },
  {
   "cell_type": "code",
   "execution_count": null,
   "metadata": {},
   "outputs": [],
   "source": [
    "index=3829\n",
    "col = index // 112\n",
    "row = index-col*112\n",
    "row2 = (index-col*112)+112\n",
    "print col\n",
    "print row\n",
    "print row2"
   ]
  }
 ],
 "metadata": {
  "kernelspec": {
   "display_name": "Python 2",
   "language": "python",
   "name": "python2"
  },
  "language_info": {
   "codemirror_mode": {
    "name": "ipython",
    "version": 2
   },
   "file_extension": ".py",
   "mimetype": "text/x-python",
   "name": "python",
   "nbconvert_exporter": "python",
   "pygments_lexer": "ipython2",
   "version": "2.7.14"
  }
 },
 "nbformat": 4,
 "nbformat_minor": 2
}
