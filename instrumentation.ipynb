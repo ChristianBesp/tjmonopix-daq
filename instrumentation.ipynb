{
 "cells": [
  {
   "cell_type": "code",
   "execution_count": null,
   "metadata": {},
   "outputs": [],
   "source": [
    "import numpy as np\n",
    "import socket\n",
    "import visa\n",
    "from instrumentation.MSO4104B_sock_cdr53 import Mso_sock\n",
    "\n",
    "mso_scope = Mso_sock(addr=\"192.168.10.2\")\n",
    "mso_scope.take_screenshot(filename='./irradiated2.png')"
   ]
  },
  {
   "cell_type": "code",
   "execution_count": 1,
   "metadata": {
    "scrolled": true
   },
   "outputs": [
    {
     "name": "stderr",
     "output_type": "stream",
     "text": [
      "2018-04-21 01:30:35,344 - [TJMONOPIX      ] - DEBUG   Loading configuration file from /faust/user/kmoustakas/Designs/TJMONOPIX/tjmonopix-daq/instrumentation/power_supply.yaml\n"
     ]
    }
   ],
   "source": [
    "import time\n",
    "from instrumentation.instrumentation import power_supply\n",
    "pwr = power_supply()\n",
    "pwr.init()\n",
    "#pwr.power_on_left_default()\n",
    "#pwr.power_on_right_default()\n",
    "#time.sleep(1)\n",
    "#pwr.get_power_status()"
   ]
  },
  {
   "cell_type": "code",
   "execution_count": 4,
   "metadata": {},
   "outputs": [
    {
     "data": {
      "text/plain": [
       "{'VDD_LEFT [A]': 0.0,\n",
       " 'VDD_LEFT [V]': 0.0,\n",
       " 'VDD_RIGHT [A]': 0.0,\n",
       " 'VDD_RIGHT [V]': 0.0}"
      ]
     },
     "execution_count": 4,
     "metadata": {},
     "output_type": "execute_result"
    }
   ],
   "source": [
    "#pwr.power_off_all()\n",
    "pwr.get_power_status()"
   ]
  },
  {
   "cell_type": "code",
   "execution_count": 3,
   "metadata": {},
   "outputs": [],
   "source": [
    "#pwr['VDD_LEFT'].get_voltage()\n",
    "#pwr.power_on(VDD_LEFT=5, VDD_LEFT_cur_lim=1)\n",
    "#pwr.power_off('VDD_LEFT')\n",
    "pwr.power_off_all()"
   ]
  },
  {
   "cell_type": "code",
   "execution_count": null,
   "metadata": {},
   "outputs": [],
   "source": [
    "#%reset -f\n",
    "import time\n",
    "from instrumentation.instrumentation import sourcemeter2450\n",
    "sm = sourcemeter2450()\n",
    "sm.init()\n",
    "#sm.get_name()"
   ]
  },
  {
   "cell_type": "code",
   "execution_count": null,
   "metadata": {},
   "outputs": [],
   "source": [
    "print sm['sourcemeter2450'].get_name()\n",
    "print sm['sourcemeter2450'].get_voltage()\n",
    "print sm['sourcemeter2450'].get_current()"
   ]
  },
  {
   "cell_type": "code",
   "execution_count": 5,
   "metadata": {
    "scrolled": true
   },
   "outputs": [
    {
     "name": "stderr",
     "output_type": "stream",
     "text": [
      "2018-04-21 01:31:05,164 - [TJMONOPIX      ] - DEBUG   Loading configuration file from /faust/user/kmoustakas/Designs/TJMONOPIX/tjmonopix-daq/instrumentation/keithley2634_pyvisa.yaml\n",
      "2018-04-21 01:31:05,759 - [root           ] - INFO    BASIL VISA TL with @py backend\n"
     ]
    }
   ],
   "source": [
    "#%reset -f\n",
    "import time\n",
    "from instrumentation.instrumentation import sourcemeter2634\n",
    "sm2 = sourcemeter2634()\n",
    "sm2.init()\n",
    "#sm.get_name()"
   ]
  },
  {
   "cell_type": "code",
   "execution_count": 11,
   "metadata": {
    "scrolled": true
   },
   "outputs": [
    {
     "name": "stdout",
     "output_type": "stream",
     "text": [
      "3.59690e-07\n",
      "\n",
      "0.000629\n",
      "1.55931e-06\n",
      "\n",
      "-0.001147\n"
     ]
    }
   ],
   "source": [
    "#print format(float(sm2['sourcemeter2634'].get_current(channel=1)), 'f')\n",
    "print sm2['sourcemeter2634'].get_current(channel=1)\n",
    "#print sm2['sourcemeter2634'].get_voltage(channel=1)\n",
    "print format(float(sm2['sourcemeter2634'].get_voltage(channel=1)), 'f')\n",
    "print sm2['sourcemeter2634'].get_current(channel=2)\n",
    "#print sm2['sourcemeter2634'].get_voltage(channel=2)\n",
    "print format(float(sm2['sourcemeter2634'].get_voltage(channel=2)), 'f')"
   ]
  },
  {
   "cell_type": "code",
   "execution_count": null,
   "metadata": {},
   "outputs": [],
   "source": [
    "sm2['sourcemeter2634'].set_voltage(0, channel=2)"
   ]
  },
  {
   "cell_type": "code",
   "execution_count": null,
   "metadata": {},
   "outputs": [],
   "source": [
    "#%reset -f\n",
    "import time\n",
    "from instrumentation.instrumentation import sourcemeter2410\n",
    "sm3 = sourcemeter2410()\n",
    "sm3.init()\n",
    "#sm.get_name()"
   ]
  },
  {
   "cell_type": "code",
   "execution_count": 7,
   "metadata": {
    "scrolled": false
   },
   "outputs": [
    {
     "ename": "NameError",
     "evalue": "name 'sm3' is not defined",
     "output_type": "error",
     "traceback": [
      "\u001b[0;31m---------------------------------------------------------------------------\u001b[0m",
      "\u001b[0;31mNameError\u001b[0m                                 Traceback (most recent call last)",
      "\u001b[0;32m<ipython-input-7-f1cff230036d>\u001b[0m in \u001b[0;36m<module>\u001b[0;34m()\u001b[0m\n\u001b[0;32m----> 1\u001b[0;31m \u001b[0;32mprint\u001b[0m \u001b[0msm3\u001b[0m\u001b[0;34m[\u001b[0m\u001b[0;34m'sourcemeter2410'\u001b[0m\u001b[0;34m]\u001b[0m\u001b[0;34m.\u001b[0m\u001b[0mget_current\u001b[0m\u001b[0;34m(\u001b[0m\u001b[0;34m)\u001b[0m\u001b[0;34m[\u001b[0m\u001b[0;36m14\u001b[0m\u001b[0;34m:\u001b[0m\u001b[0;36m27\u001b[0m\u001b[0;34m]\u001b[0m\u001b[0;34m\u001b[0m\u001b[0m\n\u001b[0m\u001b[1;32m      2\u001b[0m \u001b[0;32mprint\u001b[0m \u001b[0msm3\u001b[0m\u001b[0;34m[\u001b[0m\u001b[0;34m'sourcemeter2410'\u001b[0m\u001b[0;34m]\u001b[0m\u001b[0;34m.\u001b[0m\u001b[0mget_voltage\u001b[0m\u001b[0;34m(\u001b[0m\u001b[0;34m)\u001b[0m\u001b[0;34m[\u001b[0m\u001b[0;36m0\u001b[0m\u001b[0;34m:\u001b[0m\u001b[0;36m13\u001b[0m\u001b[0;34m]\u001b[0m\u001b[0;34m\u001b[0m\u001b[0m\n\u001b[1;32m      3\u001b[0m \u001b[0;31m# print sm3['sourcemeter2410'].get_current()\u001b[0m\u001b[0;34m\u001b[0m\u001b[0;34m\u001b[0m\u001b[0m\n\u001b[1;32m      4\u001b[0m \u001b[0;31m# print sm3['sourcemeter2410'].get_voltage()\u001b[0m\u001b[0;34m\u001b[0m\u001b[0;34m\u001b[0m\u001b[0m\n",
      "\u001b[0;31mNameError\u001b[0m: name 'sm3' is not defined"
     ]
    }
   ],
   "source": [
    "print sm3['sourcemeter2410'].get_current()[14:27]\n",
    "print sm3['sourcemeter2410'].get_voltage()[0:13]\n",
    "# print sm3['sourcemeter2410'].get_current()\n",
    "# print sm3['sourcemeter2410'].get_voltage()"
   ]
  },
  {
   "cell_type": "code",
   "execution_count": null,
   "metadata": {
    "scrolled": true
   },
   "outputs": [],
   "source": [
    "sm3['sourcemeter2410'].set_voltage(0)"
   ]
  },
  {
   "cell_type": "code",
   "execution_count": 6,
   "metadata": {},
   "outputs": [],
   "source": [
    "#pwr.power_off_all()\n",
    "#time.sleep(1)\n",
    "#sm3['sourcemeter2410'].off()\n",
    "#time.sleep(1)\n",
    "sm2['sourcemeter2634'].off(channel=1)\n",
    "time.sleep(1)\n",
    "sm2['sourcemeter2634'].off(channel=2)"
   ]
  },
  {
   "cell_type": "code",
   "execution_count": null,
   "metadata": {},
   "outputs": [],
   "source": [
    "sm3['sourcemeter2410'].off()"
   ]
  },
  {
   "cell_type": "code",
   "execution_count": null,
   "metadata": {},
   "outputs": [],
   "source": [
    "#pwr['VDD_LEFT'].set_voltage(5)"
   ]
  },
  {
   "cell_type": "code",
   "execution_count": null,
   "metadata": {},
   "outputs": [],
   "source": [
    "from basil.dut import Dut"
   ]
  },
  {
   "cell_type": "code",
   "execution_count": null,
   "metadata": {},
   "outputs": [],
   "source": [
    "import time\n",
    "# pwr['VDD_LEFT'].set_current_limit(1.2)\n",
    "# time.sleep(1)\n",
    "# print pwr['VDD_LEFT'].get_current_limit()\n",
    "# pwr['VDD_LEFT'].set_voltage(5)\n",
    "# time.sleep(1)\n",
    "# print pwr['VDD_LEFT'].get_voltage()\n",
    "pwr['VDD_LEFT'].set_enable(on=False)\n",
    "#VDD_LEFT  = 1\n",
    "\n",
    "time.sleep(5)\n",
    "pwr['VDD_LEFT'].set_enable(on=True)"
   ]
  },
  {
   "cell_type": "code",
   "execution_count": null,
   "metadata": {},
   "outputs": [],
   "source": [
    "keith = Dut('/faust/user/kmoustakas/Designs/TJMONOPIX/tjmonopix-daq/instrumentation/keithley2450_pyvisa.yaml')\n",
    "keith.init()\n",
    "keith[\"sourcemeter\"].get_name()\n",
    "#keith[\"sourcemeter\"].get_current()\n",
    "#keith[\"sourcemeter\"].set_voltage(-1)\n",
    "#keith.close()"
   ]
  },
  {
   "cell_type": "code",
   "execution_count": null,
   "metadata": {},
   "outputs": [],
   "source": [
    "sm.close()"
   ]
  },
  {
   "cell_type": "code",
   "execution_count": null,
   "metadata": {},
   "outputs": [],
   "source": [
    "import visa\n",
    "# rm = visa.ResourceManager('@py')\n",
    "# scope_visa_addr = 'TCPIP::' + '131.220.165.158'\n",
    "# scope_visa = rm.open_resource(scope_visa_addr, query_delay=0.2)\n",
    "print scope_visa.query('MEAS:CURR?')\n",
    "print scope_visa.query('MEAS:CURR?')\n",
    "print scope_visa.query('MEAS:CURR?')\n",
    "print scope_visa.query('MEAS:CURR?')\n",
    "print scope_visa.query('MEAS:CURR?')\n",
    "print '--- done ---'"
   ]
  }
 ],
 "metadata": {
  "kernelspec": {
   "display_name": "Python 2",
   "language": "python",
   "name": "python2"
  },
  "language_info": {
   "codemirror_mode": {
    "name": "ipython",
    "version": 2
   },
   "file_extension": ".py",
   "mimetype": "text/x-python",
   "name": "python",
   "nbconvert_exporter": "python",
   "pygments_lexer": "ipython2",
   "version": "2.7.14"
  }
 },
 "nbformat": 4,
 "nbformat_minor": 2
}
